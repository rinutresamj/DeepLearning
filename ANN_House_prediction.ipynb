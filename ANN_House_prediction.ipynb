{
  "nbformat": 4,
  "nbformat_minor": 0,
  "metadata": {
    "colab": {
      "provenance": [],
      "authorship_tag": "ABX9TyN3078+X6UwxdZUXHXkHxsX",
      "include_colab_link": true
    },
    "kernelspec": {
      "name": "python3",
      "display_name": "Python 3"
    },
    "language_info": {
      "name": "python"
    }
  },
  "cells": [
    {
      "cell_type": "markdown",
      "metadata": {
        "id": "view-in-github",
        "colab_type": "text"
      },
      "source": [
        "<a href=\"https://colab.research.google.com/github/rinutresamj/DeepLearning/blob/main/ANN_House_prediction.ipynb\" target=\"_parent\"><img src=\"https://colab.research.google.com/assets/colab-badge.svg\" alt=\"Open In Colab\"/></a>"
      ]
    },
    {
      "cell_type": "markdown",
      "source": [
        "Boston house price prediction using ANN"
      ],
      "metadata": {
        "id": "tNQ1FluwULwr"
      }
    },
    {
      "cell_type": "code",
      "execution_count": null,
      "metadata": {
        "id": "gyTuXgOpr-EB"
      },
      "outputs": [],
      "source": [
        "import numpy as np\n",
        "import pandas as pd\n",
        "import matplotlib.pyplot as plt\n",
        "import seaborn as sns\n",
        "from tensorflow import keras \n",
        "from tensorflow.keras import layers\n",
        "import tensorflow as tf\n",
        "\n",
        "from sklearn.model_selection import train_test_split\n",
        "from sklearn import preprocessing"
      ]
    },
    {
      "cell_type": "code",
      "source": [
        "from sklearn import datasets\n",
        "boston_housing=datasets.load_boston()"
      ],
      "metadata": {
        "colab": {
          "base_uri": "https://localhost:8080/"
        },
        "id": "QIYY42SesUCA",
        "outputId": "008fdce5-83b8-4f1d-d25b-8cddfb496e1e"
      },
      "execution_count": null,
      "outputs": [
        {
          "output_type": "stream",
          "name": "stderr",
          "text": [
            "/usr/local/lib/python3.8/dist-packages/sklearn/utils/deprecation.py:87: FutureWarning: Function load_boston is deprecated; `load_boston` is deprecated in 1.0 and will be removed in 1.2.\n",
            "\n",
            "    The Boston housing prices dataset has an ethical problem. You can refer to\n",
            "    the documentation of this function for further details.\n",
            "\n",
            "    The scikit-learn maintainers therefore strongly discourage the use of this\n",
            "    dataset unless the purpose of the code is to study and educate about\n",
            "    ethical issues in data science and machine learning.\n",
            "\n",
            "    In this special case, you can fetch the dataset from the original\n",
            "    source::\n",
            "\n",
            "        import pandas as pd\n",
            "        import numpy as np\n",
            "\n",
            "\n",
            "        data_url = \"http://lib.stat.cmu.edu/datasets/boston\"\n",
            "        raw_df = pd.read_csv(data_url, sep=\"\\s+\", skiprows=22, header=None)\n",
            "        data = np.hstack([raw_df.values[::2, :], raw_df.values[1::2, :2]])\n",
            "        target = raw_df.values[1::2, 2]\n",
            "\n",
            "    Alternative datasets include the California housing dataset (i.e.\n",
            "    :func:`~sklearn.datasets.fetch_california_housing`) and the Ames housing\n",
            "    dataset. You can load the datasets as follows::\n",
            "\n",
            "        from sklearn.datasets import fetch_california_housing\n",
            "        housing = fetch_california_housing()\n",
            "\n",
            "    for the California housing dataset and::\n",
            "\n",
            "        from sklearn.datasets import fetch_openml\n",
            "        housing = fetch_openml(name=\"house_prices\", as_frame=True)\n",
            "\n",
            "    for the Ames housing dataset.\n",
            "    \n",
            "  warnings.warn(msg, category=FutureWarning)\n"
          ]
        }
      ]
    },
    {
      "cell_type": "code",
      "source": [
        "print(boston_housing)"
      ],
      "metadata": {
        "colab": {
          "base_uri": "https://localhost:8080/"
        },
        "id": "BeTzOBTYs2rn",
        "outputId": "5fc85b16-1955-47e6-c864-443174462262"
      },
      "execution_count": null,
      "outputs": [
        {
          "output_type": "stream",
          "name": "stdout",
          "text": [
            "{'data': array([[6.3200e-03, 1.8000e+01, 2.3100e+00, ..., 1.5300e+01, 3.9690e+02,\n",
            "        4.9800e+00],\n",
            "       [2.7310e-02, 0.0000e+00, 7.0700e+00, ..., 1.7800e+01, 3.9690e+02,\n",
            "        9.1400e+00],\n",
            "       [2.7290e-02, 0.0000e+00, 7.0700e+00, ..., 1.7800e+01, 3.9283e+02,\n",
            "        4.0300e+00],\n",
            "       ...,\n",
            "       [6.0760e-02, 0.0000e+00, 1.1930e+01, ..., 2.1000e+01, 3.9690e+02,\n",
            "        5.6400e+00],\n",
            "       [1.0959e-01, 0.0000e+00, 1.1930e+01, ..., 2.1000e+01, 3.9345e+02,\n",
            "        6.4800e+00],\n",
            "       [4.7410e-02, 0.0000e+00, 1.1930e+01, ..., 2.1000e+01, 3.9690e+02,\n",
            "        7.8800e+00]]), 'target': array([24. , 21.6, 34.7, 33.4, 36.2, 28.7, 22.9, 27.1, 16.5, 18.9, 15. ,\n",
            "       18.9, 21.7, 20.4, 18.2, 19.9, 23.1, 17.5, 20.2, 18.2, 13.6, 19.6,\n",
            "       15.2, 14.5, 15.6, 13.9, 16.6, 14.8, 18.4, 21. , 12.7, 14.5, 13.2,\n",
            "       13.1, 13.5, 18.9, 20. , 21. , 24.7, 30.8, 34.9, 26.6, 25.3, 24.7,\n",
            "       21.2, 19.3, 20. , 16.6, 14.4, 19.4, 19.7, 20.5, 25. , 23.4, 18.9,\n",
            "       35.4, 24.7, 31.6, 23.3, 19.6, 18.7, 16. , 22.2, 25. , 33. , 23.5,\n",
            "       19.4, 22. , 17.4, 20.9, 24.2, 21.7, 22.8, 23.4, 24.1, 21.4, 20. ,\n",
            "       20.8, 21.2, 20.3, 28. , 23.9, 24.8, 22.9, 23.9, 26.6, 22.5, 22.2,\n",
            "       23.6, 28.7, 22.6, 22. , 22.9, 25. , 20.6, 28.4, 21.4, 38.7, 43.8,\n",
            "       33.2, 27.5, 26.5, 18.6, 19.3, 20.1, 19.5, 19.5, 20.4, 19.8, 19.4,\n",
            "       21.7, 22.8, 18.8, 18.7, 18.5, 18.3, 21.2, 19.2, 20.4, 19.3, 22. ,\n",
            "       20.3, 20.5, 17.3, 18.8, 21.4, 15.7, 16.2, 18. , 14.3, 19.2, 19.6,\n",
            "       23. , 18.4, 15.6, 18.1, 17.4, 17.1, 13.3, 17.8, 14. , 14.4, 13.4,\n",
            "       15.6, 11.8, 13.8, 15.6, 14.6, 17.8, 15.4, 21.5, 19.6, 15.3, 19.4,\n",
            "       17. , 15.6, 13.1, 41.3, 24.3, 23.3, 27. , 50. , 50. , 50. , 22.7,\n",
            "       25. , 50. , 23.8, 23.8, 22.3, 17.4, 19.1, 23.1, 23.6, 22.6, 29.4,\n",
            "       23.2, 24.6, 29.9, 37.2, 39.8, 36.2, 37.9, 32.5, 26.4, 29.6, 50. ,\n",
            "       32. , 29.8, 34.9, 37. , 30.5, 36.4, 31.1, 29.1, 50. , 33.3, 30.3,\n",
            "       34.6, 34.9, 32.9, 24.1, 42.3, 48.5, 50. , 22.6, 24.4, 22.5, 24.4,\n",
            "       20. , 21.7, 19.3, 22.4, 28.1, 23.7, 25. , 23.3, 28.7, 21.5, 23. ,\n",
            "       26.7, 21.7, 27.5, 30.1, 44.8, 50. , 37.6, 31.6, 46.7, 31.5, 24.3,\n",
            "       31.7, 41.7, 48.3, 29. , 24. , 25.1, 31.5, 23.7, 23.3, 22. , 20.1,\n",
            "       22.2, 23.7, 17.6, 18.5, 24.3, 20.5, 24.5, 26.2, 24.4, 24.8, 29.6,\n",
            "       42.8, 21.9, 20.9, 44. , 50. , 36. , 30.1, 33.8, 43.1, 48.8, 31. ,\n",
            "       36.5, 22.8, 30.7, 50. , 43.5, 20.7, 21.1, 25.2, 24.4, 35.2, 32.4,\n",
            "       32. , 33.2, 33.1, 29.1, 35.1, 45.4, 35.4, 46. , 50. , 32.2, 22. ,\n",
            "       20.1, 23.2, 22.3, 24.8, 28.5, 37.3, 27.9, 23.9, 21.7, 28.6, 27.1,\n",
            "       20.3, 22.5, 29. , 24.8, 22. , 26.4, 33.1, 36.1, 28.4, 33.4, 28.2,\n",
            "       22.8, 20.3, 16.1, 22.1, 19.4, 21.6, 23.8, 16.2, 17.8, 19.8, 23.1,\n",
            "       21. , 23.8, 23.1, 20.4, 18.5, 25. , 24.6, 23. , 22.2, 19.3, 22.6,\n",
            "       19.8, 17.1, 19.4, 22.2, 20.7, 21.1, 19.5, 18.5, 20.6, 19. , 18.7,\n",
            "       32.7, 16.5, 23.9, 31.2, 17.5, 17.2, 23.1, 24.5, 26.6, 22.9, 24.1,\n",
            "       18.6, 30.1, 18.2, 20.6, 17.8, 21.7, 22.7, 22.6, 25. , 19.9, 20.8,\n",
            "       16.8, 21.9, 27.5, 21.9, 23.1, 50. , 50. , 50. , 50. , 50. , 13.8,\n",
            "       13.8, 15. , 13.9, 13.3, 13.1, 10.2, 10.4, 10.9, 11.3, 12.3,  8.8,\n",
            "        7.2, 10.5,  7.4, 10.2, 11.5, 15.1, 23.2,  9.7, 13.8, 12.7, 13.1,\n",
            "       12.5,  8.5,  5. ,  6.3,  5.6,  7.2, 12.1,  8.3,  8.5,  5. , 11.9,\n",
            "       27.9, 17.2, 27.5, 15. , 17.2, 17.9, 16.3,  7. ,  7.2,  7.5, 10.4,\n",
            "        8.8,  8.4, 16.7, 14.2, 20.8, 13.4, 11.7,  8.3, 10.2, 10.9, 11. ,\n",
            "        9.5, 14.5, 14.1, 16.1, 14.3, 11.7, 13.4,  9.6,  8.7,  8.4, 12.8,\n",
            "       10.5, 17.1, 18.4, 15.4, 10.8, 11.8, 14.9, 12.6, 14.1, 13. , 13.4,\n",
            "       15.2, 16.1, 17.8, 14.9, 14.1, 12.7, 13.5, 14.9, 20. , 16.4, 17.7,\n",
            "       19.5, 20.2, 21.4, 19.9, 19. , 19.1, 19.1, 20.1, 19.9, 19.6, 23.2,\n",
            "       29.8, 13.8, 13.3, 16.7, 12. , 14.6, 21.4, 23. , 23.7, 25. , 21.8,\n",
            "       20.6, 21.2, 19.1, 20.6, 15.2,  7. ,  8.1, 13.6, 20.1, 21.8, 24.5,\n",
            "       23.1, 19.7, 18.3, 21.2, 17.5, 16.8, 22.4, 20.6, 23.9, 22. , 11.9]), 'feature_names': array(['CRIM', 'ZN', 'INDUS', 'CHAS', 'NOX', 'RM', 'AGE', 'DIS', 'RAD',\n",
            "       'TAX', 'PTRATIO', 'B', 'LSTAT'], dtype='<U7'), 'DESCR': \".. _boston_dataset:\\n\\nBoston house prices dataset\\n---------------------------\\n\\n**Data Set Characteristics:**  \\n\\n    :Number of Instances: 506 \\n\\n    :Number of Attributes: 13 numeric/categorical predictive. Median Value (attribute 14) is usually the target.\\n\\n    :Attribute Information (in order):\\n        - CRIM     per capita crime rate by town\\n        - ZN       proportion of residential land zoned for lots over 25,000 sq.ft.\\n        - INDUS    proportion of non-retail business acres per town\\n        - CHAS     Charles River dummy variable (= 1 if tract bounds river; 0 otherwise)\\n        - NOX      nitric oxides concentration (parts per 10 million)\\n        - RM       average number of rooms per dwelling\\n        - AGE      proportion of owner-occupied units built prior to 1940\\n        - DIS      weighted distances to five Boston employment centres\\n        - RAD      index of accessibility to radial highways\\n        - TAX      full-value property-tax rate per $10,000\\n        - PTRATIO  pupil-teacher ratio by town\\n        - B        1000(Bk - 0.63)^2 where Bk is the proportion of black people by town\\n        - LSTAT    % lower status of the population\\n        - MEDV     Median value of owner-occupied homes in $1000's\\n\\n    :Missing Attribute Values: None\\n\\n    :Creator: Harrison, D. and Rubinfeld, D.L.\\n\\nThis is a copy of UCI ML housing dataset.\\nhttps://archive.ics.uci.edu/ml/machine-learning-databases/housing/\\n\\n\\nThis dataset was taken from the StatLib library which is maintained at Carnegie Mellon University.\\n\\nThe Boston house-price data of Harrison, D. and Rubinfeld, D.L. 'Hedonic\\nprices and the demand for clean air', J. Environ. Economics & Management,\\nvol.5, 81-102, 1978.   Used in Belsley, Kuh & Welsch, 'Regression diagnostics\\n...', Wiley, 1980.   N.B. Various transformations are used in the table on\\npages 244-261 of the latter.\\n\\nThe Boston house-price data has been used in many machine learning papers that address regression\\nproblems.   \\n     \\n.. topic:: References\\n\\n   - Belsley, Kuh & Welsch, 'Regression diagnostics: Identifying Influential Data and Sources of Collinearity', Wiley, 1980. 244-261.\\n   - Quinlan,R. (1993). Combining Instance-Based and Model-Based Learning. In Proceedings on the Tenth International Conference of Machine Learning, 236-243, University of Massachusetts, Amherst. Morgan Kaufmann.\\n\", 'filename': 'boston_house_prices.csv', 'data_module': 'sklearn.datasets.data'}\n"
          ]
        }
      ]
    },
    {
      "cell_type": "code",
      "source": [
        "print(boston_housing.keys())"
      ],
      "metadata": {
        "colab": {
          "base_uri": "https://localhost:8080/"
        },
        "id": "I1rZgE_4tIa4",
        "outputId": "79a6b832-7ff7-423c-de31-0f7df8e824f6"
      },
      "execution_count": null,
      "outputs": [
        {
          "output_type": "stream",
          "name": "stdout",
          "text": [
            "dict_keys(['data', 'target', 'feature_names', 'DESCR', 'filename', 'data_module'])\n"
          ]
        }
      ]
    },
    {
      "cell_type": "code",
      "source": [
        "print(boston_housing.DESCR)"
      ],
      "metadata": {
        "colab": {
          "base_uri": "https://localhost:8080/"
        },
        "id": "CZ9IVvdYt4wN",
        "outputId": "32181086-2389-4a56-e82f-d29459bd790d"
      },
      "execution_count": null,
      "outputs": [
        {
          "output_type": "stream",
          "name": "stdout",
          "text": [
            ".. _boston_dataset:\n",
            "\n",
            "Boston house prices dataset\n",
            "---------------------------\n",
            "\n",
            "**Data Set Characteristics:**  \n",
            "\n",
            "    :Number of Instances: 506 \n",
            "\n",
            "    :Number of Attributes: 13 numeric/categorical predictive. Median Value (attribute 14) is usually the target.\n",
            "\n",
            "    :Attribute Information (in order):\n",
            "        - CRIM     per capita crime rate by town\n",
            "        - ZN       proportion of residential land zoned for lots over 25,000 sq.ft.\n",
            "        - INDUS    proportion of non-retail business acres per town\n",
            "        - CHAS     Charles River dummy variable (= 1 if tract bounds river; 0 otherwise)\n",
            "        - NOX      nitric oxides concentration (parts per 10 million)\n",
            "        - RM       average number of rooms per dwelling\n",
            "        - AGE      proportion of owner-occupied units built prior to 1940\n",
            "        - DIS      weighted distances to five Boston employment centres\n",
            "        - RAD      index of accessibility to radial highways\n",
            "        - TAX      full-value property-tax rate per $10,000\n",
            "        - PTRATIO  pupil-teacher ratio by town\n",
            "        - B        1000(Bk - 0.63)^2 where Bk is the proportion of black people by town\n",
            "        - LSTAT    % lower status of the population\n",
            "        - MEDV     Median value of owner-occupied homes in $1000's\n",
            "\n",
            "    :Missing Attribute Values: None\n",
            "\n",
            "    :Creator: Harrison, D. and Rubinfeld, D.L.\n",
            "\n",
            "This is a copy of UCI ML housing dataset.\n",
            "https://archive.ics.uci.edu/ml/machine-learning-databases/housing/\n",
            "\n",
            "\n",
            "This dataset was taken from the StatLib library which is maintained at Carnegie Mellon University.\n",
            "\n",
            "The Boston house-price data of Harrison, D. and Rubinfeld, D.L. 'Hedonic\n",
            "prices and the demand for clean air', J. Environ. Economics & Management,\n",
            "vol.5, 81-102, 1978.   Used in Belsley, Kuh & Welsch, 'Regression diagnostics\n",
            "...', Wiley, 1980.   N.B. Various transformations are used in the table on\n",
            "pages 244-261 of the latter.\n",
            "\n",
            "The Boston house-price data has been used in many machine learning papers that address regression\n",
            "problems.   \n",
            "     \n",
            ".. topic:: References\n",
            "\n",
            "   - Belsley, Kuh & Welsch, 'Regression diagnostics: Identifying Influential Data and Sources of Collinearity', Wiley, 1980. 244-261.\n",
            "   - Quinlan,R. (1993). Combining Instance-Based and Model-Based Learning. In Proceedings on the Tenth International Conference of Machine Learning, 236-243, University of Massachusetts, Amherst. Morgan Kaufmann.\n",
            "\n"
          ]
        }
      ]
    },
    {
      "cell_type": "code",
      "source": [
        "boston=pd.DataFrame(boston_housing.data,columns=boston_housing.feature_names)"
      ],
      "metadata": {
        "id": "zEeQwf0FuAJJ"
      },
      "execution_count": null,
      "outputs": []
    },
    {
      "cell_type": "code",
      "source": [
        "boston.describe()"
      ],
      "metadata": {
        "colab": {
          "base_uri": "https://localhost:8080/",
          "height": 301
        },
        "id": "0EAZT8cjy-gW",
        "outputId": "26d6c543-62d9-4996-fbb8-ba56015e74d5"
      },
      "execution_count": null,
      "outputs": [
        {
          "output_type": "execute_result",
          "data": {
            "text/plain": [
              "             CRIM          ZN       INDUS        CHAS         NOX          RM  \\\n",
              "count  506.000000  506.000000  506.000000  506.000000  506.000000  506.000000   \n",
              "mean     3.613524   11.363636   11.136779    0.069170    0.554695    6.284634   \n",
              "std      8.601545   23.322453    6.860353    0.253994    0.115878    0.702617   \n",
              "min      0.006320    0.000000    0.460000    0.000000    0.385000    3.561000   \n",
              "25%      0.082045    0.000000    5.190000    0.000000    0.449000    5.885500   \n",
              "50%      0.256510    0.000000    9.690000    0.000000    0.538000    6.208500   \n",
              "75%      3.677083   12.500000   18.100000    0.000000    0.624000    6.623500   \n",
              "max     88.976200  100.000000   27.740000    1.000000    0.871000    8.780000   \n",
              "\n",
              "              AGE         DIS         RAD         TAX     PTRATIO           B  \\\n",
              "count  506.000000  506.000000  506.000000  506.000000  506.000000  506.000000   \n",
              "mean    68.574901    3.795043    9.549407  408.237154   18.455534  356.674032   \n",
              "std     28.148861    2.105710    8.707259  168.537116    2.164946   91.294864   \n",
              "min      2.900000    1.129600    1.000000  187.000000   12.600000    0.320000   \n",
              "25%     45.025000    2.100175    4.000000  279.000000   17.400000  375.377500   \n",
              "50%     77.500000    3.207450    5.000000  330.000000   19.050000  391.440000   \n",
              "75%     94.075000    5.188425   24.000000  666.000000   20.200000  396.225000   \n",
              "max    100.000000   12.126500   24.000000  711.000000   22.000000  396.900000   \n",
              "\n",
              "            LSTAT  \n",
              "count  506.000000  \n",
              "mean    12.653063  \n",
              "std      7.141062  \n",
              "min      1.730000  \n",
              "25%      6.950000  \n",
              "50%     11.360000  \n",
              "75%     16.955000  \n",
              "max     37.970000  "
            ],
            "text/html": [
              "\n",
              "  <div id=\"df-2d05e0dd-53fa-41e1-85ff-d8b8e54c97d5\">\n",
              "    <div class=\"colab-df-container\">\n",
              "      <div>\n",
              "<style scoped>\n",
              "    .dataframe tbody tr th:only-of-type {\n",
              "        vertical-align: middle;\n",
              "    }\n",
              "\n",
              "    .dataframe tbody tr th {\n",
              "        vertical-align: top;\n",
              "    }\n",
              "\n",
              "    .dataframe thead th {\n",
              "        text-align: right;\n",
              "    }\n",
              "</style>\n",
              "<table border=\"1\" class=\"dataframe\">\n",
              "  <thead>\n",
              "    <tr style=\"text-align: right;\">\n",
              "      <th></th>\n",
              "      <th>CRIM</th>\n",
              "      <th>ZN</th>\n",
              "      <th>INDUS</th>\n",
              "      <th>CHAS</th>\n",
              "      <th>NOX</th>\n",
              "      <th>RM</th>\n",
              "      <th>AGE</th>\n",
              "      <th>DIS</th>\n",
              "      <th>RAD</th>\n",
              "      <th>TAX</th>\n",
              "      <th>PTRATIO</th>\n",
              "      <th>B</th>\n",
              "      <th>LSTAT</th>\n",
              "    </tr>\n",
              "  </thead>\n",
              "  <tbody>\n",
              "    <tr>\n",
              "      <th>count</th>\n",
              "      <td>506.000000</td>\n",
              "      <td>506.000000</td>\n",
              "      <td>506.000000</td>\n",
              "      <td>506.000000</td>\n",
              "      <td>506.000000</td>\n",
              "      <td>506.000000</td>\n",
              "      <td>506.000000</td>\n",
              "      <td>506.000000</td>\n",
              "      <td>506.000000</td>\n",
              "      <td>506.000000</td>\n",
              "      <td>506.000000</td>\n",
              "      <td>506.000000</td>\n",
              "      <td>506.000000</td>\n",
              "    </tr>\n",
              "    <tr>\n",
              "      <th>mean</th>\n",
              "      <td>3.613524</td>\n",
              "      <td>11.363636</td>\n",
              "      <td>11.136779</td>\n",
              "      <td>0.069170</td>\n",
              "      <td>0.554695</td>\n",
              "      <td>6.284634</td>\n",
              "      <td>68.574901</td>\n",
              "      <td>3.795043</td>\n",
              "      <td>9.549407</td>\n",
              "      <td>408.237154</td>\n",
              "      <td>18.455534</td>\n",
              "      <td>356.674032</td>\n",
              "      <td>12.653063</td>\n",
              "    </tr>\n",
              "    <tr>\n",
              "      <th>std</th>\n",
              "      <td>8.601545</td>\n",
              "      <td>23.322453</td>\n",
              "      <td>6.860353</td>\n",
              "      <td>0.253994</td>\n",
              "      <td>0.115878</td>\n",
              "      <td>0.702617</td>\n",
              "      <td>28.148861</td>\n",
              "      <td>2.105710</td>\n",
              "      <td>8.707259</td>\n",
              "      <td>168.537116</td>\n",
              "      <td>2.164946</td>\n",
              "      <td>91.294864</td>\n",
              "      <td>7.141062</td>\n",
              "    </tr>\n",
              "    <tr>\n",
              "      <th>min</th>\n",
              "      <td>0.006320</td>\n",
              "      <td>0.000000</td>\n",
              "      <td>0.460000</td>\n",
              "      <td>0.000000</td>\n",
              "      <td>0.385000</td>\n",
              "      <td>3.561000</td>\n",
              "      <td>2.900000</td>\n",
              "      <td>1.129600</td>\n",
              "      <td>1.000000</td>\n",
              "      <td>187.000000</td>\n",
              "      <td>12.600000</td>\n",
              "      <td>0.320000</td>\n",
              "      <td>1.730000</td>\n",
              "    </tr>\n",
              "    <tr>\n",
              "      <th>25%</th>\n",
              "      <td>0.082045</td>\n",
              "      <td>0.000000</td>\n",
              "      <td>5.190000</td>\n",
              "      <td>0.000000</td>\n",
              "      <td>0.449000</td>\n",
              "      <td>5.885500</td>\n",
              "      <td>45.025000</td>\n",
              "      <td>2.100175</td>\n",
              "      <td>4.000000</td>\n",
              "      <td>279.000000</td>\n",
              "      <td>17.400000</td>\n",
              "      <td>375.377500</td>\n",
              "      <td>6.950000</td>\n",
              "    </tr>\n",
              "    <tr>\n",
              "      <th>50%</th>\n",
              "      <td>0.256510</td>\n",
              "      <td>0.000000</td>\n",
              "      <td>9.690000</td>\n",
              "      <td>0.000000</td>\n",
              "      <td>0.538000</td>\n",
              "      <td>6.208500</td>\n",
              "      <td>77.500000</td>\n",
              "      <td>3.207450</td>\n",
              "      <td>5.000000</td>\n",
              "      <td>330.000000</td>\n",
              "      <td>19.050000</td>\n",
              "      <td>391.440000</td>\n",
              "      <td>11.360000</td>\n",
              "    </tr>\n",
              "    <tr>\n",
              "      <th>75%</th>\n",
              "      <td>3.677083</td>\n",
              "      <td>12.500000</td>\n",
              "      <td>18.100000</td>\n",
              "      <td>0.000000</td>\n",
              "      <td>0.624000</td>\n",
              "      <td>6.623500</td>\n",
              "      <td>94.075000</td>\n",
              "      <td>5.188425</td>\n",
              "      <td>24.000000</td>\n",
              "      <td>666.000000</td>\n",
              "      <td>20.200000</td>\n",
              "      <td>396.225000</td>\n",
              "      <td>16.955000</td>\n",
              "    </tr>\n",
              "    <tr>\n",
              "      <th>max</th>\n",
              "      <td>88.976200</td>\n",
              "      <td>100.000000</td>\n",
              "      <td>27.740000</td>\n",
              "      <td>1.000000</td>\n",
              "      <td>0.871000</td>\n",
              "      <td>8.780000</td>\n",
              "      <td>100.000000</td>\n",
              "      <td>12.126500</td>\n",
              "      <td>24.000000</td>\n",
              "      <td>711.000000</td>\n",
              "      <td>22.000000</td>\n",
              "      <td>396.900000</td>\n",
              "      <td>37.970000</td>\n",
              "    </tr>\n",
              "  </tbody>\n",
              "</table>\n",
              "</div>\n",
              "      <button class=\"colab-df-convert\" onclick=\"convertToInteractive('df-2d05e0dd-53fa-41e1-85ff-d8b8e54c97d5')\"\n",
              "              title=\"Convert this dataframe to an interactive table.\"\n",
              "              style=\"display:none;\">\n",
              "        \n",
              "  <svg xmlns=\"http://www.w3.org/2000/svg\" height=\"24px\"viewBox=\"0 0 24 24\"\n",
              "       width=\"24px\">\n",
              "    <path d=\"M0 0h24v24H0V0z\" fill=\"none\"/>\n",
              "    <path d=\"M18.56 5.44l.94 2.06.94-2.06 2.06-.94-2.06-.94-.94-2.06-.94 2.06-2.06.94zm-11 1L8.5 8.5l.94-2.06 2.06-.94-2.06-.94L8.5 2.5l-.94 2.06-2.06.94zm10 10l.94 2.06.94-2.06 2.06-.94-2.06-.94-.94-2.06-.94 2.06-2.06.94z\"/><path d=\"M17.41 7.96l-1.37-1.37c-.4-.4-.92-.59-1.43-.59-.52 0-1.04.2-1.43.59L10.3 9.45l-7.72 7.72c-.78.78-.78 2.05 0 2.83L4 21.41c.39.39.9.59 1.41.59.51 0 1.02-.2 1.41-.59l7.78-7.78 2.81-2.81c.8-.78.8-2.07 0-2.86zM5.41 20L4 18.59l7.72-7.72 1.47 1.35L5.41 20z\"/>\n",
              "  </svg>\n",
              "      </button>\n",
              "      \n",
              "  <style>\n",
              "    .colab-df-container {\n",
              "      display:flex;\n",
              "      flex-wrap:wrap;\n",
              "      gap: 12px;\n",
              "    }\n",
              "\n",
              "    .colab-df-convert {\n",
              "      background-color: #E8F0FE;\n",
              "      border: none;\n",
              "      border-radius: 50%;\n",
              "      cursor: pointer;\n",
              "      display: none;\n",
              "      fill: #1967D2;\n",
              "      height: 32px;\n",
              "      padding: 0 0 0 0;\n",
              "      width: 32px;\n",
              "    }\n",
              "\n",
              "    .colab-df-convert:hover {\n",
              "      background-color: #E2EBFA;\n",
              "      box-shadow: 0px 1px 2px rgba(60, 64, 67, 0.3), 0px 1px 3px 1px rgba(60, 64, 67, 0.15);\n",
              "      fill: #174EA6;\n",
              "    }\n",
              "\n",
              "    [theme=dark] .colab-df-convert {\n",
              "      background-color: #3B4455;\n",
              "      fill: #D2E3FC;\n",
              "    }\n",
              "\n",
              "    [theme=dark] .colab-df-convert:hover {\n",
              "      background-color: #434B5C;\n",
              "      box-shadow: 0px 1px 3px 1px rgba(0, 0, 0, 0.15);\n",
              "      filter: drop-shadow(0px 1px 2px rgba(0, 0, 0, 0.3));\n",
              "      fill: #FFFFFF;\n",
              "    }\n",
              "  </style>\n",
              "\n",
              "      <script>\n",
              "        const buttonEl =\n",
              "          document.querySelector('#df-2d05e0dd-53fa-41e1-85ff-d8b8e54c97d5 button.colab-df-convert');\n",
              "        buttonEl.style.display =\n",
              "          google.colab.kernel.accessAllowed ? 'block' : 'none';\n",
              "\n",
              "        async function convertToInteractive(key) {\n",
              "          const element = document.querySelector('#df-2d05e0dd-53fa-41e1-85ff-d8b8e54c97d5');\n",
              "          const dataTable =\n",
              "            await google.colab.kernel.invokeFunction('convertToInteractive',\n",
              "                                                     [key], {});\n",
              "          if (!dataTable) return;\n",
              "\n",
              "          const docLinkHtml = 'Like what you see? Visit the ' +\n",
              "            '<a target=\"_blank\" href=https://colab.research.google.com/notebooks/data_table.ipynb>data table notebook</a>'\n",
              "            + ' to learn more about interactive tables.';\n",
              "          element.innerHTML = '';\n",
              "          dataTable['output_type'] = 'display_data';\n",
              "          await google.colab.output.renderOutput(dataTable, element);\n",
              "          const docLink = document.createElement('div');\n",
              "          docLink.innerHTML = docLinkHtml;\n",
              "          element.appendChild(docLink);\n",
              "        }\n",
              "      </script>\n",
              "    </div>\n",
              "  </div>\n",
              "  "
            ]
          },
          "metadata": {},
          "execution_count": 53
        }
      ]
    },
    {
      "cell_type": "code",
      "source": [
        "boston[boston['CRIM']>6.2].CRIM.nunique()"
      ],
      "metadata": {
        "colab": {
          "base_uri": "https://localhost:8080/"
        },
        "id": "VNtU_D1Mfkss",
        "outputId": "ccf02328-e315-414a-fb4e-5d5fee1844f8"
      },
      "execution_count": null,
      "outputs": [
        {
          "output_type": "execute_result",
          "data": {
            "text/plain": [
              "92"
            ]
          },
          "metadata": {},
          "execution_count": 54
        }
      ]
    },
    {
      "cell_type": "code",
      "source": [
        "boston[boston['ZN']>24].ZN.nunique()"
      ],
      "metadata": {
        "colab": {
          "base_uri": "https://localhost:8080/"
        },
        "id": "_OFGRsFIjMvv",
        "outputId": "3c4210c1-eb8f-445f-90f8-45f72c5db644"
      },
      "execution_count": null,
      "outputs": [
        {
          "output_type": "execute_result",
          "data": {
            "text/plain": [
              "19"
            ]
          },
          "metadata": {},
          "execution_count": 55
        }
      ]
    },
    {
      "cell_type": "code",
      "source": [
        "boston[(boston['ZN']>24)&(boston['CRIM']>6.2)].CRIM.nunique()"
      ],
      "metadata": {
        "colab": {
          "base_uri": "https://localhost:8080/"
        },
        "id": "rLn9t6T_j7QZ",
        "outputId": "e2deb140-862a-43b3-e97e-6b74ed23d130"
      },
      "execution_count": null,
      "outputs": [
        {
          "output_type": "execute_result",
          "data": {
            "text/plain": [
              "0"
            ]
          },
          "metadata": {},
          "execution_count": 56
        }
      ]
    },
    {
      "cell_type": "code",
      "source": [
        "boston['Price']=boston_housing.target"
      ],
      "metadata": {
        "id": "-x8AhgNBpuYE"
      },
      "execution_count": null,
      "outputs": []
    },
    {
      "cell_type": "code",
      "source": [
        "boston"
      ],
      "metadata": {
        "colab": {
          "base_uri": "https://localhost:8080/",
          "height": 424
        },
        "id": "L0xBk4l5p3r_",
        "outputId": "99a72d26-869c-43b3-818b-d8f14592a608"
      },
      "execution_count": null,
      "outputs": [
        {
          "output_type": "execute_result",
          "data": {
            "text/plain": [
              "        CRIM    ZN  INDUS  CHAS    NOX     RM   AGE     DIS  RAD    TAX  \\\n",
              "0    0.00632  18.0   2.31   0.0  0.538  6.575  65.2  4.0900  1.0  296.0   \n",
              "1    0.02731   0.0   7.07   0.0  0.469  6.421  78.9  4.9671  2.0  242.0   \n",
              "2    0.02729   0.0   7.07   0.0  0.469  7.185  61.1  4.9671  2.0  242.0   \n",
              "3    0.03237   0.0   2.18   0.0  0.458  6.998  45.8  6.0622  3.0  222.0   \n",
              "4    0.06905   0.0   2.18   0.0  0.458  7.147  54.2  6.0622  3.0  222.0   \n",
              "..       ...   ...    ...   ...    ...    ...   ...     ...  ...    ...   \n",
              "501  0.06263   0.0  11.93   0.0  0.573  6.593  69.1  2.4786  1.0  273.0   \n",
              "502  0.04527   0.0  11.93   0.0  0.573  6.120  76.7  2.2875  1.0  273.0   \n",
              "503  0.06076   0.0  11.93   0.0  0.573  6.976  91.0  2.1675  1.0  273.0   \n",
              "504  0.10959   0.0  11.93   0.0  0.573  6.794  89.3  2.3889  1.0  273.0   \n",
              "505  0.04741   0.0  11.93   0.0  0.573  6.030  80.8  2.5050  1.0  273.0   \n",
              "\n",
              "     PTRATIO       B  LSTAT  Price  \n",
              "0       15.3  396.90   4.98   24.0  \n",
              "1       17.8  396.90   9.14   21.6  \n",
              "2       17.8  392.83   4.03   34.7  \n",
              "3       18.7  394.63   2.94   33.4  \n",
              "4       18.7  396.90   5.33   36.2  \n",
              "..       ...     ...    ...    ...  \n",
              "501     21.0  391.99   9.67   22.4  \n",
              "502     21.0  396.90   9.08   20.6  \n",
              "503     21.0  396.90   5.64   23.9  \n",
              "504     21.0  393.45   6.48   22.0  \n",
              "505     21.0  396.90   7.88   11.9  \n",
              "\n",
              "[506 rows x 14 columns]"
            ],
            "text/html": [
              "\n",
              "  <div id=\"df-1ea542ec-72df-478c-a1d3-7fc66eded3e6\">\n",
              "    <div class=\"colab-df-container\">\n",
              "      <div>\n",
              "<style scoped>\n",
              "    .dataframe tbody tr th:only-of-type {\n",
              "        vertical-align: middle;\n",
              "    }\n",
              "\n",
              "    .dataframe tbody tr th {\n",
              "        vertical-align: top;\n",
              "    }\n",
              "\n",
              "    .dataframe thead th {\n",
              "        text-align: right;\n",
              "    }\n",
              "</style>\n",
              "<table border=\"1\" class=\"dataframe\">\n",
              "  <thead>\n",
              "    <tr style=\"text-align: right;\">\n",
              "      <th></th>\n",
              "      <th>CRIM</th>\n",
              "      <th>ZN</th>\n",
              "      <th>INDUS</th>\n",
              "      <th>CHAS</th>\n",
              "      <th>NOX</th>\n",
              "      <th>RM</th>\n",
              "      <th>AGE</th>\n",
              "      <th>DIS</th>\n",
              "      <th>RAD</th>\n",
              "      <th>TAX</th>\n",
              "      <th>PTRATIO</th>\n",
              "      <th>B</th>\n",
              "      <th>LSTAT</th>\n",
              "      <th>Price</th>\n",
              "    </tr>\n",
              "  </thead>\n",
              "  <tbody>\n",
              "    <tr>\n",
              "      <th>0</th>\n",
              "      <td>0.00632</td>\n",
              "      <td>18.0</td>\n",
              "      <td>2.31</td>\n",
              "      <td>0.0</td>\n",
              "      <td>0.538</td>\n",
              "      <td>6.575</td>\n",
              "      <td>65.2</td>\n",
              "      <td>4.0900</td>\n",
              "      <td>1.0</td>\n",
              "      <td>296.0</td>\n",
              "      <td>15.3</td>\n",
              "      <td>396.90</td>\n",
              "      <td>4.98</td>\n",
              "      <td>24.0</td>\n",
              "    </tr>\n",
              "    <tr>\n",
              "      <th>1</th>\n",
              "      <td>0.02731</td>\n",
              "      <td>0.0</td>\n",
              "      <td>7.07</td>\n",
              "      <td>0.0</td>\n",
              "      <td>0.469</td>\n",
              "      <td>6.421</td>\n",
              "      <td>78.9</td>\n",
              "      <td>4.9671</td>\n",
              "      <td>2.0</td>\n",
              "      <td>242.0</td>\n",
              "      <td>17.8</td>\n",
              "      <td>396.90</td>\n",
              "      <td>9.14</td>\n",
              "      <td>21.6</td>\n",
              "    </tr>\n",
              "    <tr>\n",
              "      <th>2</th>\n",
              "      <td>0.02729</td>\n",
              "      <td>0.0</td>\n",
              "      <td>7.07</td>\n",
              "      <td>0.0</td>\n",
              "      <td>0.469</td>\n",
              "      <td>7.185</td>\n",
              "      <td>61.1</td>\n",
              "      <td>4.9671</td>\n",
              "      <td>2.0</td>\n",
              "      <td>242.0</td>\n",
              "      <td>17.8</td>\n",
              "      <td>392.83</td>\n",
              "      <td>4.03</td>\n",
              "      <td>34.7</td>\n",
              "    </tr>\n",
              "    <tr>\n",
              "      <th>3</th>\n",
              "      <td>0.03237</td>\n",
              "      <td>0.0</td>\n",
              "      <td>2.18</td>\n",
              "      <td>0.0</td>\n",
              "      <td>0.458</td>\n",
              "      <td>6.998</td>\n",
              "      <td>45.8</td>\n",
              "      <td>6.0622</td>\n",
              "      <td>3.0</td>\n",
              "      <td>222.0</td>\n",
              "      <td>18.7</td>\n",
              "      <td>394.63</td>\n",
              "      <td>2.94</td>\n",
              "      <td>33.4</td>\n",
              "    </tr>\n",
              "    <tr>\n",
              "      <th>4</th>\n",
              "      <td>0.06905</td>\n",
              "      <td>0.0</td>\n",
              "      <td>2.18</td>\n",
              "      <td>0.0</td>\n",
              "      <td>0.458</td>\n",
              "      <td>7.147</td>\n",
              "      <td>54.2</td>\n",
              "      <td>6.0622</td>\n",
              "      <td>3.0</td>\n",
              "      <td>222.0</td>\n",
              "      <td>18.7</td>\n",
              "      <td>396.90</td>\n",
              "      <td>5.33</td>\n",
              "      <td>36.2</td>\n",
              "    </tr>\n",
              "    <tr>\n",
              "      <th>...</th>\n",
              "      <td>...</td>\n",
              "      <td>...</td>\n",
              "      <td>...</td>\n",
              "      <td>...</td>\n",
              "      <td>...</td>\n",
              "      <td>...</td>\n",
              "      <td>...</td>\n",
              "      <td>...</td>\n",
              "      <td>...</td>\n",
              "      <td>...</td>\n",
              "      <td>...</td>\n",
              "      <td>...</td>\n",
              "      <td>...</td>\n",
              "      <td>...</td>\n",
              "    </tr>\n",
              "    <tr>\n",
              "      <th>501</th>\n",
              "      <td>0.06263</td>\n",
              "      <td>0.0</td>\n",
              "      <td>11.93</td>\n",
              "      <td>0.0</td>\n",
              "      <td>0.573</td>\n",
              "      <td>6.593</td>\n",
              "      <td>69.1</td>\n",
              "      <td>2.4786</td>\n",
              "      <td>1.0</td>\n",
              "      <td>273.0</td>\n",
              "      <td>21.0</td>\n",
              "      <td>391.99</td>\n",
              "      <td>9.67</td>\n",
              "      <td>22.4</td>\n",
              "    </tr>\n",
              "    <tr>\n",
              "      <th>502</th>\n",
              "      <td>0.04527</td>\n",
              "      <td>0.0</td>\n",
              "      <td>11.93</td>\n",
              "      <td>0.0</td>\n",
              "      <td>0.573</td>\n",
              "      <td>6.120</td>\n",
              "      <td>76.7</td>\n",
              "      <td>2.2875</td>\n",
              "      <td>1.0</td>\n",
              "      <td>273.0</td>\n",
              "      <td>21.0</td>\n",
              "      <td>396.90</td>\n",
              "      <td>9.08</td>\n",
              "      <td>20.6</td>\n",
              "    </tr>\n",
              "    <tr>\n",
              "      <th>503</th>\n",
              "      <td>0.06076</td>\n",
              "      <td>0.0</td>\n",
              "      <td>11.93</td>\n",
              "      <td>0.0</td>\n",
              "      <td>0.573</td>\n",
              "      <td>6.976</td>\n",
              "      <td>91.0</td>\n",
              "      <td>2.1675</td>\n",
              "      <td>1.0</td>\n",
              "      <td>273.0</td>\n",
              "      <td>21.0</td>\n",
              "      <td>396.90</td>\n",
              "      <td>5.64</td>\n",
              "      <td>23.9</td>\n",
              "    </tr>\n",
              "    <tr>\n",
              "      <th>504</th>\n",
              "      <td>0.10959</td>\n",
              "      <td>0.0</td>\n",
              "      <td>11.93</td>\n",
              "      <td>0.0</td>\n",
              "      <td>0.573</td>\n",
              "      <td>6.794</td>\n",
              "      <td>89.3</td>\n",
              "      <td>2.3889</td>\n",
              "      <td>1.0</td>\n",
              "      <td>273.0</td>\n",
              "      <td>21.0</td>\n",
              "      <td>393.45</td>\n",
              "      <td>6.48</td>\n",
              "      <td>22.0</td>\n",
              "    </tr>\n",
              "    <tr>\n",
              "      <th>505</th>\n",
              "      <td>0.04741</td>\n",
              "      <td>0.0</td>\n",
              "      <td>11.93</td>\n",
              "      <td>0.0</td>\n",
              "      <td>0.573</td>\n",
              "      <td>6.030</td>\n",
              "      <td>80.8</td>\n",
              "      <td>2.5050</td>\n",
              "      <td>1.0</td>\n",
              "      <td>273.0</td>\n",
              "      <td>21.0</td>\n",
              "      <td>396.90</td>\n",
              "      <td>7.88</td>\n",
              "      <td>11.9</td>\n",
              "    </tr>\n",
              "  </tbody>\n",
              "</table>\n",
              "<p>506 rows × 14 columns</p>\n",
              "</div>\n",
              "      <button class=\"colab-df-convert\" onclick=\"convertToInteractive('df-1ea542ec-72df-478c-a1d3-7fc66eded3e6')\"\n",
              "              title=\"Convert this dataframe to an interactive table.\"\n",
              "              style=\"display:none;\">\n",
              "        \n",
              "  <svg xmlns=\"http://www.w3.org/2000/svg\" height=\"24px\"viewBox=\"0 0 24 24\"\n",
              "       width=\"24px\">\n",
              "    <path d=\"M0 0h24v24H0V0z\" fill=\"none\"/>\n",
              "    <path d=\"M18.56 5.44l.94 2.06.94-2.06 2.06-.94-2.06-.94-.94-2.06-.94 2.06-2.06.94zm-11 1L8.5 8.5l.94-2.06 2.06-.94-2.06-.94L8.5 2.5l-.94 2.06-2.06.94zm10 10l.94 2.06.94-2.06 2.06-.94-2.06-.94-.94-2.06-.94 2.06-2.06.94z\"/><path d=\"M17.41 7.96l-1.37-1.37c-.4-.4-.92-.59-1.43-.59-.52 0-1.04.2-1.43.59L10.3 9.45l-7.72 7.72c-.78.78-.78 2.05 0 2.83L4 21.41c.39.39.9.59 1.41.59.51 0 1.02-.2 1.41-.59l7.78-7.78 2.81-2.81c.8-.78.8-2.07 0-2.86zM5.41 20L4 18.59l7.72-7.72 1.47 1.35L5.41 20z\"/>\n",
              "  </svg>\n",
              "      </button>\n",
              "      \n",
              "  <style>\n",
              "    .colab-df-container {\n",
              "      display:flex;\n",
              "      flex-wrap:wrap;\n",
              "      gap: 12px;\n",
              "    }\n",
              "\n",
              "    .colab-df-convert {\n",
              "      background-color: #E8F0FE;\n",
              "      border: none;\n",
              "      border-radius: 50%;\n",
              "      cursor: pointer;\n",
              "      display: none;\n",
              "      fill: #1967D2;\n",
              "      height: 32px;\n",
              "      padding: 0 0 0 0;\n",
              "      width: 32px;\n",
              "    }\n",
              "\n",
              "    .colab-df-convert:hover {\n",
              "      background-color: #E2EBFA;\n",
              "      box-shadow: 0px 1px 2px rgba(60, 64, 67, 0.3), 0px 1px 3px 1px rgba(60, 64, 67, 0.15);\n",
              "      fill: #174EA6;\n",
              "    }\n",
              "\n",
              "    [theme=dark] .colab-df-convert {\n",
              "      background-color: #3B4455;\n",
              "      fill: #D2E3FC;\n",
              "    }\n",
              "\n",
              "    [theme=dark] .colab-df-convert:hover {\n",
              "      background-color: #434B5C;\n",
              "      box-shadow: 0px 1px 3px 1px rgba(0, 0, 0, 0.15);\n",
              "      filter: drop-shadow(0px 1px 2px rgba(0, 0, 0, 0.3));\n",
              "      fill: #FFFFFF;\n",
              "    }\n",
              "  </style>\n",
              "\n",
              "      <script>\n",
              "        const buttonEl =\n",
              "          document.querySelector('#df-1ea542ec-72df-478c-a1d3-7fc66eded3e6 button.colab-df-convert');\n",
              "        buttonEl.style.display =\n",
              "          google.colab.kernel.accessAllowed ? 'block' : 'none';\n",
              "\n",
              "        async function convertToInteractive(key) {\n",
              "          const element = document.querySelector('#df-1ea542ec-72df-478c-a1d3-7fc66eded3e6');\n",
              "          const dataTable =\n",
              "            await google.colab.kernel.invokeFunction('convertToInteractive',\n",
              "                                                     [key], {});\n",
              "          if (!dataTable) return;\n",
              "\n",
              "          const docLinkHtml = 'Like what you see? Visit the ' +\n",
              "            '<a target=\"_blank\" href=https://colab.research.google.com/notebooks/data_table.ipynb>data table notebook</a>'\n",
              "            + ' to learn more about interactive tables.';\n",
              "          element.innerHTML = '';\n",
              "          dataTable['output_type'] = 'display_data';\n",
              "          await google.colab.output.renderOutput(dataTable, element);\n",
              "          const docLink = document.createElement('div');\n",
              "          docLink.innerHTML = docLinkHtml;\n",
              "          element.appendChild(docLink);\n",
              "        }\n",
              "      </script>\n",
              "    </div>\n",
              "  </div>\n",
              "  "
            ]
          },
          "metadata": {},
          "execution_count": 58
        }
      ]
    },
    {
      "cell_type": "code",
      "source": [
        "boston.isnull().sum()"
      ],
      "metadata": {
        "colab": {
          "base_uri": "https://localhost:8080/"
        },
        "id": "zhQJmkv2qFjM",
        "outputId": "25afe8cd-316c-4851-cebb-90cd80ca729b"
      },
      "execution_count": null,
      "outputs": [
        {
          "output_type": "execute_result",
          "data": {
            "text/plain": [
              "CRIM       0\n",
              "ZN         0\n",
              "INDUS      0\n",
              "CHAS       0\n",
              "NOX        0\n",
              "RM         0\n",
              "AGE        0\n",
              "DIS        0\n",
              "RAD        0\n",
              "TAX        0\n",
              "PTRATIO    0\n",
              "B          0\n",
              "LSTAT      0\n",
              "Price      0\n",
              "dtype: int64"
            ]
          },
          "metadata": {},
          "execution_count": 59
        }
      ]
    },
    {
      "cell_type": "code",
      "source": [
        "#sns.set(rc= {'figure.figsize':(15:10)})\n",
        "sns.set(rc={'figure.figsize':(11.7,8.27)})\n",
        "plt.subplot(1,2,1)\n",
        "sns.histplot(boston['DIS'],bins=40,kde=True)\n",
        "#plt.show()\n",
        "#sns.set(rc={'figure.figsize':(11.7,8.27)})\n",
        "plt.subplot(1,2,2)\n",
        "sns.histplot(boston['AGE'],bins=40,kde=True)\n",
        "plt.show()"
      ],
      "metadata": {
        "colab": {
          "base_uri": "https://localhost:8080/",
          "height": 517
        },
        "id": "icJ__mHuqdxI",
        "outputId": "e61013dd-8a26-4c72-bbe6-ecb0b4e94af8"
      },
      "execution_count": null,
      "outputs": [
        {
          "output_type": "display_data",
          "data": {
            "text/plain": [
              "<Figure size 842.4x595.44 with 2 Axes>"
            ],
            "image/png": "[encoded data removed]"
          },
          "metadata": {}
        }
      ]
    },
    {
      "cell_type": "code",
      "source": [
        "sns.set(rc={'figure.figsize':(11.7,8.27)})\n",
        "sns.histplot(boston['AGE'],bins=40)\n",
        "plt.show()"
      ],
      "metadata": {
        "colab": {
          "base_uri": "https://localhost:8080/",
          "height": 517
        },
        "id": "8eK1TgqcroDV",
        "outputId": "712bec09-652b-4163-8c85-f40745fc6be4"
      },
      "execution_count": null,
      "outputs": [
        {
          "output_type": "display_data",
          "data": {
            "text/plain": [
              "<Figure size 842.4x595.44 with 1 Axes>"
            ],
            "image/png": "[encoded data removed]"
          },
          "metadata": {}
        }
      ]
    },
    {
      "cell_type": "markdown",
      "source": [
        "By combining these 2 graphs majority of the people are older people and they choose to live in nearby employment centers."
      ],
      "metadata": {
        "id": "1WxXaxwPsUEO"
      }
    },
    {
      "cell_type": "code",
      "source": [
        "correlation=boston.corr().round(2)\n",
        "sns.heatmap(data=correlation,annot=True)"
      ],
      "metadata": {
        "colab": {
          "base_uri": "https://localhost:8080/",
          "height": 521
        },
        "id": "dcRynW-v62tG",
        "outputId": "ccea5803-0d25-4d0a-ba6a-edd9e457226b"
      },
      "execution_count": null,
      "outputs": [
        {
          "output_type": "execute_result",
          "data": {
            "text/plain": [
              "<matplotlib.axes._subplots.AxesSubplot at 0x7f214e8d1610>"
            ]
          },
          "metadata": {},
          "execution_count": 62
        },
        {
          "output_type": "display_data",
          "data": {
            "text/plain": [
              "<Figure size 842.4x595.44 with 2 Axes>"
            ],
            "image/png": "[encoded data removed]"
          },
          "metadata": {}
        }
      ]
    },
    {
      "cell_type": "code",
      "source": [
        "x=boston_housing.data\n",
        "y=boston_housing.target"
      ],
      "metadata": {
        "id": "AG04OZhRUiOY"
      },
      "execution_count": null,
      "outputs": []
    },
    {
      "cell_type": "code",
      "source": [
        "X_train,X_test,y_train,y_test=train_test_split(x,y,test_size=0.2,random_state=2)\n",
        "print(X_train.shape)\n",
        "print(X_test.shape)"
      ],
      "metadata": {
        "colab": {
          "base_uri": "https://localhost:8080/"
        },
        "id": "Nio5BCGwV4j0",
        "outputId": "3b28452d-ef22-4d67-fbbc-2c8572061f5a"
      },
      "execution_count": null,
      "outputs": [
        {
          "output_type": "stream",
          "name": "stdout",
          "text": [
            "(404, 13)\n",
            "(102, 13)\n"
          ]
        }
      ]
    },
    {
      "cell_type": "code",
      "source": [
        "train_x=preprocessing.normalize(X_train)\n",
        "test_x=preprocessing.normalize(X_test)"
      ],
      "metadata": {
        "id": "MjzQEzp_WwdF"
      },
      "execution_count": null,
      "outputs": []
    },
    {
      "cell_type": "code",
      "source": [
        "network=tf.keras.Sequential()\n",
        "network.add(layers.Dense(128,activation='relu',input_shape=(13,)))\n",
        "network.add(layers.Dense(64,activation='relu'))\n",
        "network.add(layers.Dense(32,activation='relu'))\n",
        "network.add(layers.Dense(1))\n"
      ],
      "metadata": {
        "id": "Dfcv2NSXXRVX"
      },
      "execution_count": null,
      "outputs": []
    },
    {
      "cell_type": "code",
      "source": [
        "network.compile(optimizer=tf.keras.optimizers.RMSprop(lr=0.01),loss='mse',metrics=['mae'])"
      ],
      "metadata": {
        "colab": {
          "base_uri": "https://localhost:8080/"
        },
        "id": "Eq9QrglXdYVI",
        "outputId": "f4634fa9-b701-491d-80f4-044d1e70d395"
      },
      "execution_count": null,
      "outputs": [
        {
          "output_type": "stream",
          "name": "stderr",
          "text": [
            "/usr/local/lib/python3.8/dist-packages/keras/optimizers/optimizer_v2/rmsprop.py:135: UserWarning: The `lr` argument is deprecated, use `learning_rate` instead.\n",
            "  super(RMSprop, self).__init__(name, **kwargs)\n"
          ]
        }
      ]
    },
    {
      "cell_type": "code",
      "source": [
        "network.summary()"
      ],
      "metadata": {
        "colab": {
          "base_uri": "https://localhost:8080/"
        },
        "id": "i1PKCpjfsFsQ",
        "outputId": "2ea0ca37-eede-4f4d-b39e-2ce2bd4714b4"
      },
      "execution_count": null,
      "outputs": [
        {
          "output_type": "stream",
          "name": "stdout",
          "text": [
            "Model: \"sequential\"\n",
            "_________________________________________________________________\n",
            " Layer (type)                Output Shape              Param #   \n",
            "=================================================================\n",
            " dense (Dense)               (None, 128)               1792      \n",
            "                                                                 \n",
            " dense_1 (Dense)             (None, 64)                8256      \n",
            "                                                                 \n",
            " dense_2 (Dense)             (None, 32)                2080      \n",
            "                                                                 \n",
            " dense_3 (Dense)             (None, 1)                 33        \n",
            "                                                                 \n",
            "=================================================================\n",
            "Total params: 12,161\n",
            "Trainable params: 12,161\n",
            "Non-trainable params: 0\n",
            "_________________________________________________________________\n"
          ]
        }
      ]
    },
    {
      "cell_type": "code",
      "source": [
        "model_history=network.fit(train_x,y_train,validation_data=(test_x,y_test),batch_size=1,epochs=200)"
      ],
      "metadata": {
        "colab": {
          "base_uri": "https://localhost:8080/"
        },
        "id": "BwHsgqHBzmeX",
        "outputId": "5fb216be-f7ff-439e-f8f9-65ed527cfa74"
      },
      "execution_count": null,
      "outputs": [
        {
          "output_type": "stream",
          "name": "stdout",
          "text": [
            "Epoch 1/200\n",
            "404/404 [==============================] - 2s 3ms/step - loss: 97.0230 - mae: 6.9659 - val_loss: 69.4202 - val_mae: 5.9288\n",
            "Epoch 2/200\n",
            "404/404 [==============================] - 1s 2ms/step - loss: 72.9610 - mae: 6.0394 - val_loss: 46.9904 - val_mae: 5.5127\n",
            "Epoch 3/200\n",
            "404/404 [==============================] - 1s 2ms/step - loss: 70.1049 - mae: 5.8397 - val_loss: 39.0559 - val_mae: 4.7279\n",
            "Epoch 4/200\n",
            "404/404 [==============================] - 1s 2ms/step - loss: 64.9413 - mae: 5.5562 - val_loss: 42.0243 - val_mae: 4.5770\n",
            "Epoch 5/200\n",
            "404/404 [==============================] - 1s 2ms/step - loss: 58.8584 - mae: 5.3599 - val_loss: 36.3064 - val_mae: 4.2492\n",
            "Epoch 6/200\n",
            "404/404 [==============================] - 1s 2ms/step - loss: 58.6273 - mae: 5.3340 - val_loss: 31.4674 - val_mae: 4.1294\n",
            "Epoch 7/200\n",
            "404/404 [==============================] - 1s 2ms/step - loss: 52.2836 - mae: 4.9739 - val_loss: 49.4757 - val_mae: 5.0647\n",
            "Epoch 8/200\n",
            "404/404 [==============================] - 1s 2ms/step - loss: 49.2753 - mae: 4.6912 - val_loss: 57.9482 - val_mae: 6.7279\n",
            "Epoch 9/200\n",
            "404/404 [==============================] - 1s 2ms/step - loss: 45.6699 - mae: 4.8086 - val_loss: 29.2484 - val_mae: 3.9070\n",
            "Epoch 10/200\n",
            "404/404 [==============================] - 1s 2ms/step - loss: 42.4022 - mae: 4.5358 - val_loss: 36.3965 - val_mae: 4.2912\n",
            "Epoch 11/200\n",
            "404/404 [==============================] - 1s 2ms/step - loss: 41.5973 - mae: 4.4223 - val_loss: 19.6433 - val_mae: 3.3595\n",
            "Epoch 12/200\n",
            "404/404 [==============================] - 1s 2ms/step - loss: 40.6098 - mae: 4.3258 - val_loss: 89.9384 - val_mae: 8.4466\n",
            "Epoch 13/200\n",
            "404/404 [==============================] - 1s 2ms/step - loss: 41.5293 - mae: 4.5542 - val_loss: 26.2389 - val_mae: 4.2882\n",
            "Epoch 14/200\n",
            "404/404 [==============================] - 1s 2ms/step - loss: 38.1581 - mae: 4.4177 - val_loss: 60.4168 - val_mae: 7.0128\n",
            "Epoch 15/200\n",
            "404/404 [==============================] - 1s 2ms/step - loss: 36.4661 - mae: 4.4224 - val_loss: 20.6129 - val_mae: 3.5696\n",
            "Epoch 16/200\n",
            "404/404 [==============================] - 1s 2ms/step - loss: 36.1720 - mae: 4.2308 - val_loss: 19.4327 - val_mae: 3.2660\n",
            "Epoch 17/200\n",
            "404/404 [==============================] - 1s 2ms/step - loss: 33.8784 - mae: 4.1133 - val_loss: 32.7536 - val_mae: 4.0491\n",
            "Epoch 18/200\n",
            "404/404 [==============================] - 1s 2ms/step - loss: 34.2754 - mae: 4.1249 - val_loss: 24.0709 - val_mae: 3.9173\n",
            "Epoch 19/200\n",
            "404/404 [==============================] - 1s 2ms/step - loss: 35.7180 - mae: 4.1274 - val_loss: 19.2900 - val_mae: 3.3532\n",
            "Epoch 20/200\n",
            "404/404 [==============================] - 1s 2ms/step - loss: 33.7235 - mae: 4.0107 - val_loss: 35.8851 - val_mae: 4.9779\n",
            "Epoch 21/200\n",
            "404/404 [==============================] - 1s 2ms/step - loss: 34.0439 - mae: 4.1052 - val_loss: 19.0456 - val_mae: 3.2354\n",
            "Epoch 22/200\n",
            "404/404 [==============================] - 1s 2ms/step - loss: 31.4230 - mae: 4.0430 - val_loss: 29.1436 - val_mae: 4.0020\n",
            "Epoch 23/200\n",
            "404/404 [==============================] - 1s 3ms/step - loss: 31.2006 - mae: 3.8466 - val_loss: 23.2205 - val_mae: 3.5699\n",
            "Epoch 24/200\n",
            "404/404 [==============================] - 1s 2ms/step - loss: 30.9918 - mae: 4.0042 - val_loss: 18.2616 - val_mae: 3.2653\n",
            "Epoch 25/200\n",
            "404/404 [==============================] - 1s 2ms/step - loss: 34.2710 - mae: 4.0107 - val_loss: 21.9963 - val_mae: 3.4775\n",
            "Epoch 26/200\n",
            "404/404 [==============================] - 1s 2ms/step - loss: 30.5858 - mae: 3.9698 - val_loss: 16.9875 - val_mae: 3.1278\n",
            "Epoch 27/200\n",
            "404/404 [==============================] - 1s 2ms/step - loss: 29.3955 - mae: 3.8084 - val_loss: 30.3868 - val_mae: 4.5147\n",
            "Epoch 28/200\n",
            "404/404 [==============================] - 1s 2ms/step - loss: 32.9153 - mae: 4.0172 - val_loss: 39.8705 - val_mae: 5.0686\n",
            "Epoch 29/200\n",
            "404/404 [==============================] - 1s 2ms/step - loss: 32.5524 - mae: 3.9277 - val_loss: 19.0449 - val_mae: 3.3860\n",
            "Epoch 30/200\n",
            "404/404 [==============================] - 1s 2ms/step - loss: 31.8026 - mae: 3.8697 - val_loss: 68.8771 - val_mae: 6.5287\n",
            "Epoch 31/200\n",
            "404/404 [==============================] - 1s 2ms/step - loss: 30.7674 - mae: 3.8248 - val_loss: 22.6136 - val_mae: 3.7492\n",
            "Epoch 32/200\n",
            "404/404 [==============================] - 1s 2ms/step - loss: 27.9045 - mae: 3.7809 - val_loss: 21.8397 - val_mae: 3.8179\n",
            "Epoch 33/200\n",
            "404/404 [==============================] - 1s 2ms/step - loss: 30.1883 - mae: 3.8141 - val_loss: 29.7228 - val_mae: 4.3675\n",
            "Epoch 34/200\n",
            "404/404 [==============================] - 1s 2ms/step - loss: 27.9149 - mae: 3.7049 - val_loss: 15.8307 - val_mae: 3.0458\n",
            "Epoch 35/200\n",
            "404/404 [==============================] - 1s 2ms/step - loss: 27.9992 - mae: 3.6490 - val_loss: 35.0831 - val_mae: 4.6819\n",
            "Epoch 36/200\n",
            "404/404 [==============================] - 1s 2ms/step - loss: 30.1236 - mae: 3.7811 - val_loss: 16.4187 - val_mae: 3.1296\n",
            "Epoch 37/200\n",
            "404/404 [==============================] - 1s 2ms/step - loss: 28.4461 - mae: 3.7863 - val_loss: 15.6748 - val_mae: 3.0698\n",
            "Epoch 38/200\n",
            "404/404 [==============================] - 1s 2ms/step - loss: 27.4244 - mae: 3.6717 - val_loss: 17.2851 - val_mae: 3.2394\n",
            "Epoch 39/200\n",
            "404/404 [==============================] - 1s 2ms/step - loss: 26.1586 - mae: 3.6077 - val_loss: 21.4570 - val_mae: 3.4911\n",
            "Epoch 40/200\n",
            "404/404 [==============================] - 2s 4ms/step - loss: 30.3348 - mae: 3.8723 - val_loss: 18.3438 - val_mae: 3.3435\n",
            "Epoch 41/200\n",
            "404/404 [==============================] - 1s 3ms/step - loss: 29.7342 - mae: 3.7593 - val_loss: 16.9872 - val_mae: 3.3151\n",
            "Epoch 42/200\n",
            "404/404 [==============================] - 1s 2ms/step - loss: 26.2795 - mae: 3.6477 - val_loss: 21.9717 - val_mae: 3.8324\n",
            "Epoch 43/200\n",
            "404/404 [==============================] - 1s 2ms/step - loss: 32.7439 - mae: 4.0189 - val_loss: 33.6769 - val_mae: 4.6198\n",
            "Epoch 44/200\n",
            "404/404 [==============================] - 1s 2ms/step - loss: 28.8540 - mae: 3.7607 - val_loss: 25.9782 - val_mae: 3.8988\n",
            "Epoch 45/200\n",
            "404/404 [==============================] - 1s 2ms/step - loss: 27.4421 - mae: 3.7217 - val_loss: 23.6642 - val_mae: 3.5943\n",
            "Epoch 46/200\n",
            "404/404 [==============================] - 1s 2ms/step - loss: 29.2638 - mae: 3.7083 - val_loss: 18.2437 - val_mae: 3.4161\n",
            "Epoch 47/200\n",
            "404/404 [==============================] - 1s 2ms/step - loss: 28.8377 - mae: 3.7118 - val_loss: 16.4061 - val_mae: 3.1626\n",
            "Epoch 48/200\n",
            "404/404 [==============================] - 1s 2ms/step - loss: 29.5665 - mae: 3.7788 - val_loss: 23.9086 - val_mae: 3.8372\n",
            "Epoch 49/200\n",
            "404/404 [==============================] - 1s 2ms/step - loss: 25.1833 - mae: 3.5896 - val_loss: 17.5719 - val_mae: 3.1840\n",
            "Epoch 50/200\n",
            "404/404 [==============================] - 1s 2ms/step - loss: 29.1332 - mae: 3.6860 - val_loss: 42.9052 - val_mae: 5.4993\n",
            "Epoch 51/200\n",
            "404/404 [==============================] - 1s 2ms/step - loss: 28.6125 - mae: 3.7880 - val_loss: 20.8961 - val_mae: 3.6423\n",
            "Epoch 52/200\n",
            "404/404 [==============================] - 1s 2ms/step - loss: 27.3701 - mae: 3.6905 - val_loss: 18.8956 - val_mae: 3.2763\n",
            "Epoch 53/200\n",
            "404/404 [==============================] - 1s 2ms/step - loss: 25.8779 - mae: 3.5312 - val_loss: 22.5895 - val_mae: 3.5351\n",
            "Epoch 54/200\n",
            "404/404 [==============================] - 1s 2ms/step - loss: 27.5120 - mae: 3.5905 - val_loss: 20.6172 - val_mae: 3.4383\n",
            "Epoch 55/200\n",
            "404/404 [==============================] - 1s 2ms/step - loss: 27.5723 - mae: 3.6450 - val_loss: 18.2951 - val_mae: 3.4856\n",
            "Epoch 56/200\n",
            "404/404 [==============================] - 1s 2ms/step - loss: 27.0222 - mae: 3.6427 - val_loss: 17.8667 - val_mae: 3.2252\n",
            "Epoch 57/200\n",
            "404/404 [==============================] - 1s 2ms/step - loss: 26.3060 - mae: 3.6258 - val_loss: 23.4345 - val_mae: 3.5801\n",
            "Epoch 58/200\n",
            "404/404 [==============================] - 1s 2ms/step - loss: 26.4957 - mae: 3.5432 - val_loss: 14.9362 - val_mae: 3.0339\n",
            "Epoch 59/200\n",
            "404/404 [==============================] - 1s 2ms/step - loss: 25.2079 - mae: 3.5034 - val_loss: 15.4732 - val_mae: 3.1694\n",
            "Epoch 60/200\n",
            "404/404 [==============================] - 1s 2ms/step - loss: 26.8016 - mae: 3.6704 - val_loss: 19.5766 - val_mae: 3.3473\n",
            "Epoch 61/200\n",
            "404/404 [==============================] - 1s 2ms/step - loss: 26.8017 - mae: 3.5370 - val_loss: 34.9567 - val_mae: 4.7555\n",
            "Epoch 62/200\n",
            "404/404 [==============================] - 1s 2ms/step - loss: 24.1333 - mae: 3.4800 - val_loss: 15.9788 - val_mae: 3.1036\n",
            "Epoch 63/200\n",
            "404/404 [==============================] - 1s 2ms/step - loss: 26.0114 - mae: 3.5297 - val_loss: 19.8402 - val_mae: 3.3735\n",
            "Epoch 64/200\n",
            "404/404 [==============================] - 1s 2ms/step - loss: 27.3656 - mae: 3.5874 - val_loss: 15.3813 - val_mae: 3.0167\n",
            "Epoch 65/200\n",
            "404/404 [==============================] - 1s 2ms/step - loss: 25.3135 - mae: 3.4082 - val_loss: 17.6243 - val_mae: 3.2094\n",
            "Epoch 66/200\n",
            "404/404 [==============================] - 1s 2ms/step - loss: 26.6697 - mae: 3.6071 - val_loss: 27.3023 - val_mae: 4.1107\n",
            "Epoch 67/200\n",
            "404/404 [==============================] - 1s 2ms/step - loss: 26.5690 - mae: 3.5306 - val_loss: 16.1254 - val_mae: 3.2248\n",
            "Epoch 68/200\n",
            "404/404 [==============================] - 1s 3ms/step - loss: 26.7760 - mae: 3.5886 - val_loss: 21.5458 - val_mae: 3.3987\n",
            "Epoch 69/200\n",
            "404/404 [==============================] - 1s 3ms/step - loss: 26.9587 - mae: 3.6026 - val_loss: 19.6271 - val_mae: 3.2889\n",
            "Epoch 70/200\n",
            "404/404 [==============================] - 1s 3ms/step - loss: 25.9502 - mae: 3.4971 - val_loss: 33.1583 - val_mae: 4.4195\n",
            "Epoch 71/200\n",
            "404/404 [==============================] - 1s 2ms/step - loss: 26.2012 - mae: 3.6921 - val_loss: 15.5372 - val_mae: 3.0715\n",
            "Epoch 72/200\n",
            "404/404 [==============================] - 1s 2ms/step - loss: 23.9237 - mae: 3.4753 - val_loss: 17.5536 - val_mae: 3.1796\n",
            "Epoch 73/200\n",
            "404/404 [==============================] - 1s 2ms/step - loss: 26.1726 - mae: 3.5057 - val_loss: 23.1280 - val_mae: 3.5316\n",
            "Epoch 74/200\n",
            "404/404 [==============================] - 1s 2ms/step - loss: 26.0171 - mae: 3.3840 - val_loss: 22.3523 - val_mae: 3.6904\n",
            "Epoch 75/200\n",
            "404/404 [==============================] - 1s 2ms/step - loss: 25.7749 - mae: 3.5162 - val_loss: 21.9710 - val_mae: 3.5512\n",
            "Epoch 76/200\n",
            "404/404 [==============================] - 1s 2ms/step - loss: 25.6865 - mae: 3.5368 - val_loss: 17.8929 - val_mae: 3.2392\n",
            "Epoch 77/200\n",
            "404/404 [==============================] - 1s 2ms/step - loss: 26.3661 - mae: 3.5099 - val_loss: 16.5507 - val_mae: 3.1956\n",
            "Epoch 78/200\n",
            "404/404 [==============================] - 1s 2ms/step - loss: 27.9938 - mae: 3.6725 - val_loss: 28.3446 - val_mae: 3.8627\n",
            "Epoch 79/200\n",
            "404/404 [==============================] - 1s 2ms/step - loss: 26.5510 - mae: 3.4788 - val_loss: 34.3477 - val_mae: 4.2033\n",
            "Epoch 80/200\n",
            "404/404 [==============================] - 1s 2ms/step - loss: 25.8373 - mae: 3.5572 - val_loss: 15.2371 - val_mae: 2.9931\n",
            "Epoch 81/200\n",
            "404/404 [==============================] - 1s 2ms/step - loss: 24.0640 - mae: 3.4387 - val_loss: 15.2026 - val_mae: 3.1380\n",
            "Epoch 82/200\n",
            "404/404 [==============================] - 1s 2ms/step - loss: 24.9839 - mae: 3.5251 - val_loss: 15.8360 - val_mae: 3.1408\n",
            "Epoch 83/200\n",
            "404/404 [==============================] - 1s 3ms/step - loss: 24.8078 - mae: 3.5101 - val_loss: 14.7048 - val_mae: 3.0099\n",
            "Epoch 84/200\n",
            "404/404 [==============================] - 1s 2ms/step - loss: 27.1165 - mae: 3.5078 - val_loss: 17.5470 - val_mae: 3.3373\n",
            "Epoch 85/200\n",
            "404/404 [==============================] - 1s 2ms/step - loss: 25.6501 - mae: 3.4656 - val_loss: 41.5903 - val_mae: 5.1786\n",
            "Epoch 86/200\n",
            "404/404 [==============================] - 1s 2ms/step - loss: 24.5138 - mae: 3.5018 - val_loss: 20.0305 - val_mae: 3.4470\n",
            "Epoch 87/200\n",
            "404/404 [==============================] - 1s 2ms/step - loss: 24.0029 - mae: 3.4448 - val_loss: 34.0326 - val_mae: 4.7278\n",
            "Epoch 88/200\n",
            "404/404 [==============================] - 1s 2ms/step - loss: 24.5682 - mae: 3.4637 - val_loss: 16.4046 - val_mae: 3.2019\n",
            "Epoch 89/200\n",
            "404/404 [==============================] - 1s 2ms/step - loss: 26.7926 - mae: 3.6221 - val_loss: 23.7820 - val_mae: 3.7349\n",
            "Epoch 90/200\n",
            "404/404 [==============================] - 1s 2ms/step - loss: 24.2377 - mae: 3.5571 - val_loss: 26.4555 - val_mae: 4.3611\n",
            "Epoch 91/200\n",
            "404/404 [==============================] - 1s 2ms/step - loss: 24.2583 - mae: 3.4166 - val_loss: 16.9783 - val_mae: 3.1962\n",
            "Epoch 92/200\n",
            "404/404 [==============================] - 1s 2ms/step - loss: 24.9619 - mae: 3.4695 - val_loss: 36.0234 - val_mae: 4.4910\n",
            "Epoch 93/200\n",
            "404/404 [==============================] - 1s 2ms/step - loss: 25.7069 - mae: 3.3733 - val_loss: 17.2730 - val_mae: 3.1982\n",
            "Epoch 94/200\n",
            "404/404 [==============================] - 1s 2ms/step - loss: 23.6836 - mae: 3.3486 - val_loss: 16.2738 - val_mae: 3.1780\n",
            "Epoch 95/200\n",
            "404/404 [==============================] - 1s 2ms/step - loss: 26.2263 - mae: 3.4519 - val_loss: 24.3753 - val_mae: 3.7389\n",
            "Epoch 96/200\n",
            "404/404 [==============================] - 1s 3ms/step - loss: 25.2265 - mae: 3.3610 - val_loss: 15.1417 - val_mae: 3.0036\n",
            "Epoch 97/200\n",
            "404/404 [==============================] - 2s 4ms/step - loss: 23.7096 - mae: 3.3407 - val_loss: 19.5986 - val_mae: 3.6331\n",
            "Epoch 98/200\n",
            "404/404 [==============================] - 1s 2ms/step - loss: 25.6897 - mae: 3.5031 - val_loss: 17.2809 - val_mae: 3.1750\n",
            "Epoch 99/200\n",
            "404/404 [==============================] - 1s 2ms/step - loss: 25.5388 - mae: 3.4857 - val_loss: 20.5438 - val_mae: 3.3853\n",
            "Epoch 100/200\n",
            "404/404 [==============================] - 1s 2ms/step - loss: 24.2032 - mae: 3.4044 - val_loss: 14.2269 - val_mae: 2.9596\n",
            "Epoch 101/200\n",
            "404/404 [==============================] - 1s 2ms/step - loss: 23.9494 - mae: 3.5385 - val_loss: 15.2137 - val_mae: 3.0122\n",
            "Epoch 102/200\n",
            "404/404 [==============================] - 1s 2ms/step - loss: 23.2150 - mae: 3.3628 - val_loss: 18.3837 - val_mae: 3.2274\n",
            "Epoch 103/200\n",
            "404/404 [==============================] - 1s 2ms/step - loss: 24.4561 - mae: 3.4406 - val_loss: 14.9285 - val_mae: 3.1583\n",
            "Epoch 104/200\n",
            "404/404 [==============================] - 1s 2ms/step - loss: 23.9431 - mae: 3.3451 - val_loss: 14.7640 - val_mae: 3.0271\n",
            "Epoch 105/200\n",
            "404/404 [==============================] - 1s 2ms/step - loss: 24.7811 - mae: 3.5188 - val_loss: 50.7780 - val_mae: 5.5429\n",
            "Epoch 106/200\n",
            "404/404 [==============================] - 1s 2ms/step - loss: 23.9696 - mae: 3.3008 - val_loss: 20.8448 - val_mae: 3.7853\n",
            "Epoch 107/200\n",
            "404/404 [==============================] - 1s 2ms/step - loss: 25.1314 - mae: 3.4364 - val_loss: 14.2855 - val_mae: 2.9663\n",
            "Epoch 108/200\n",
            "404/404 [==============================] - 1s 2ms/step - loss: 23.9739 - mae: 3.3964 - val_loss: 17.4964 - val_mae: 3.4015\n",
            "Epoch 109/200\n",
            "404/404 [==============================] - 1s 2ms/step - loss: 23.7611 - mae: 3.4392 - val_loss: 21.1433 - val_mae: 3.7453\n",
            "Epoch 110/200\n",
            "404/404 [==============================] - 1s 2ms/step - loss: 23.6940 - mae: 3.3926 - val_loss: 17.1039 - val_mae: 3.3043\n",
            "Epoch 111/200\n",
            "404/404 [==============================] - 1s 2ms/step - loss: 24.8316 - mae: 3.3829 - val_loss: 16.6257 - val_mae: 3.1514\n",
            "Epoch 112/200\n",
            "404/404 [==============================] - 1s 2ms/step - loss: 23.3207 - mae: 3.3388 - val_loss: 14.0642 - val_mae: 2.8895\n",
            "Epoch 113/200\n",
            "404/404 [==============================] - 1s 2ms/step - loss: 22.3616 - mae: 3.1976 - val_loss: 22.1641 - val_mae: 3.4695\n",
            "Epoch 114/200\n",
            "404/404 [==============================] - 1s 2ms/step - loss: 22.4239 - mae: 3.3372 - val_loss: 15.4321 - val_mae: 2.9906\n",
            "Epoch 115/200\n",
            "404/404 [==============================] - 1s 2ms/step - loss: 23.9879 - mae: 3.3709 - val_loss: 21.4700 - val_mae: 3.4337\n",
            "Epoch 116/200\n",
            "404/404 [==============================] - 1s 2ms/step - loss: 24.5868 - mae: 3.3728 - val_loss: 15.0163 - val_mae: 2.9932\n",
            "Epoch 117/200\n",
            "404/404 [==============================] - 1s 2ms/step - loss: 24.8940 - mae: 3.3864 - val_loss: 15.2689 - val_mae: 3.0123\n",
            "Epoch 118/200\n",
            "404/404 [==============================] - 1s 2ms/step - loss: 24.0547 - mae: 3.3854 - val_loss: 15.2948 - val_mae: 3.0735\n",
            "Epoch 119/200\n",
            "404/404 [==============================] - 1s 2ms/step - loss: 23.1658 - mae: 3.3872 - val_loss: 17.8270 - val_mae: 3.2357\n",
            "Epoch 120/200\n",
            "404/404 [==============================] - 1s 2ms/step - loss: 23.8386 - mae: 3.3501 - val_loss: 18.4693 - val_mae: 3.2887\n",
            "Epoch 121/200\n",
            "404/404 [==============================] - 1s 2ms/step - loss: 24.0749 - mae: 3.4378 - val_loss: 15.6313 - val_mae: 3.0809\n",
            "Epoch 122/200\n",
            "404/404 [==============================] - 1s 3ms/step - loss: 23.7527 - mae: 3.4099 - val_loss: 17.4354 - val_mae: 3.2750\n",
            "Epoch 123/200\n",
            "404/404 [==============================] - 1s 3ms/step - loss: 23.6791 - mae: 3.4372 - val_loss: 14.5058 - val_mae: 2.9937\n",
            "Epoch 124/200\n",
            "404/404 [==============================] - 1s 3ms/step - loss: 24.1334 - mae: 3.4064 - val_loss: 14.9316 - val_mae: 3.1084\n",
            "Epoch 125/200\n",
            "404/404 [==============================] - 1s 2ms/step - loss: 23.2887 - mae: 3.3316 - val_loss: 18.8404 - val_mae: 3.4578\n",
            "Epoch 126/200\n",
            "404/404 [==============================] - 1s 2ms/step - loss: 21.8030 - mae: 3.2691 - val_loss: 17.4313 - val_mae: 3.2150\n",
            "Epoch 127/200\n",
            "404/404 [==============================] - 1s 2ms/step - loss: 22.7926 - mae: 3.2998 - val_loss: 15.1334 - val_mae: 3.1542\n",
            "Epoch 128/200\n",
            "404/404 [==============================] - 1s 2ms/step - loss: 23.1518 - mae: 3.3805 - val_loss: 14.6354 - val_mae: 3.0236\n",
            "Epoch 129/200\n",
            "404/404 [==============================] - 1s 2ms/step - loss: 22.6187 - mae: 3.3736 - val_loss: 15.7657 - val_mae: 3.0542\n",
            "Epoch 130/200\n",
            "404/404 [==============================] - 1s 2ms/step - loss: 22.2023 - mae: 3.2945 - val_loss: 15.7377 - val_mae: 2.9888\n",
            "Epoch 131/200\n",
            "404/404 [==============================] - 1s 2ms/step - loss: 23.5576 - mae: 3.3472 - val_loss: 23.5603 - val_mae: 3.9224\n",
            "Epoch 132/200\n",
            "404/404 [==============================] - 1s 2ms/step - loss: 21.8213 - mae: 3.3176 - val_loss: 16.6465 - val_mae: 3.1062\n",
            "Epoch 133/200\n",
            "404/404 [==============================] - 1s 2ms/step - loss: 23.0532 - mae: 3.3050 - val_loss: 16.7854 - val_mae: 3.2041\n",
            "Epoch 134/200\n",
            "404/404 [==============================] - 1s 2ms/step - loss: 23.2519 - mae: 3.3725 - val_loss: 17.8753 - val_mae: 3.4288\n",
            "Epoch 135/200\n",
            "404/404 [==============================] - 1s 2ms/step - loss: 22.9583 - mae: 3.3477 - val_loss: 22.2141 - val_mae: 3.5207\n",
            "Epoch 136/200\n",
            "404/404 [==============================] - 1s 2ms/step - loss: 23.7822 - mae: 3.3612 - val_loss: 33.1209 - val_mae: 4.4910\n",
            "Epoch 137/200\n",
            "404/404 [==============================] - 1s 2ms/step - loss: 23.8101 - mae: 3.2997 - val_loss: 15.7001 - val_mae: 3.1024\n",
            "Epoch 138/200\n",
            "404/404 [==============================] - 1s 2ms/step - loss: 22.6268 - mae: 3.2269 - val_loss: 15.1235 - val_mae: 3.0870\n",
            "Epoch 139/200\n",
            "404/404 [==============================] - 1s 2ms/step - loss: 22.1672 - mae: 3.3183 - val_loss: 31.1346 - val_mae: 4.0711\n",
            "Epoch 140/200\n",
            "404/404 [==============================] - 1s 2ms/step - loss: 23.6936 - mae: 3.3671 - val_loss: 15.9667 - val_mae: 3.1726\n",
            "Epoch 141/200\n",
            "404/404 [==============================] - 1s 2ms/step - loss: 22.3446 - mae: 3.2809 - val_loss: 15.5070 - val_mae: 3.0215\n",
            "Epoch 142/200\n",
            "404/404 [==============================] - 1s 2ms/step - loss: 22.0368 - mae: 3.3040 - val_loss: 17.1601 - val_mae: 3.3137\n",
            "Epoch 143/200\n",
            "404/404 [==============================] - 1s 2ms/step - loss: 22.6481 - mae: 3.3510 - val_loss: 16.0202 - val_mae: 3.1472\n",
            "Epoch 144/200\n",
            "404/404 [==============================] - 1s 2ms/step - loss: 22.6139 - mae: 3.3576 - val_loss: 30.8546 - val_mae: 4.3882\n",
            "Epoch 145/200\n",
            "404/404 [==============================] - 1s 2ms/step - loss: 21.1659 - mae: 3.2714 - val_loss: 17.5797 - val_mae: 3.4097\n",
            "Epoch 146/200\n",
            "404/404 [==============================] - 1s 2ms/step - loss: 23.2554 - mae: 3.3580 - val_loss: 18.1069 - val_mae: 3.3011\n",
            "Epoch 147/200\n",
            "404/404 [==============================] - 1s 2ms/step - loss: 22.1159 - mae: 3.1946 - val_loss: 18.7546 - val_mae: 3.1711\n",
            "Epoch 148/200\n",
            "404/404 [==============================] - 1s 2ms/step - loss: 22.9090 - mae: 3.2024 - val_loss: 32.0003 - val_mae: 4.1830\n",
            "Epoch 149/200\n",
            "404/404 [==============================] - 1s 2ms/step - loss: 22.9945 - mae: 3.2030 - val_loss: 17.9999 - val_mae: 3.2760\n",
            "Epoch 150/200\n",
            "404/404 [==============================] - 1s 2ms/step - loss: 21.1381 - mae: 3.2245 - val_loss: 15.9747 - val_mae: 3.2049\n",
            "Epoch 151/200\n",
            "404/404 [==============================] - 1s 2ms/step - loss: 22.8357 - mae: 3.2575 - val_loss: 16.5010 - val_mae: 3.2665\n",
            "Epoch 152/200\n",
            "404/404 [==============================] - 1s 2ms/step - loss: 21.7401 - mae: 3.1803 - val_loss: 16.4300 - val_mae: 3.1198\n",
            "Epoch 153/200\n",
            "404/404 [==============================] - 1s 2ms/step - loss: 23.2281 - mae: 3.2465 - val_loss: 15.2825 - val_mae: 3.0993\n",
            "Epoch 154/200\n",
            "404/404 [==============================] - 1s 2ms/step - loss: 22.1122 - mae: 3.2607 - val_loss: 15.2082 - val_mae: 3.0706\n",
            "Epoch 155/200\n",
            "404/404 [==============================] - 1s 2ms/step - loss: 21.6726 - mae: 3.3128 - val_loss: 28.0203 - val_mae: 4.2252\n",
            "Epoch 156/200\n",
            "404/404 [==============================] - 1s 2ms/step - loss: 23.3380 - mae: 3.2955 - val_loss: 15.4355 - val_mae: 3.0727\n",
            "Epoch 157/200\n",
            "404/404 [==============================] - 1s 2ms/step - loss: 21.3071 - mae: 3.2247 - val_loss: 28.7663 - val_mae: 4.1959\n",
            "Epoch 158/200\n",
            "404/404 [==============================] - 1s 2ms/step - loss: 21.5416 - mae: 3.2023 - val_loss: 17.2757 - val_mae: 3.3332\n",
            "Epoch 159/200\n",
            "404/404 [==============================] - 1s 2ms/step - loss: 23.2140 - mae: 3.2709 - val_loss: 26.2900 - val_mae: 3.8415\n",
            "Epoch 160/200\n",
            "404/404 [==============================] - 1s 2ms/step - loss: 21.7729 - mae: 3.2577 - val_loss: 16.6259 - val_mae: 3.1646\n",
            "Epoch 161/200\n",
            "404/404 [==============================] - 1s 2ms/step - loss: 23.7506 - mae: 3.2252 - val_loss: 18.9299 - val_mae: 3.2689\n",
            "Epoch 162/200\n",
            "404/404 [==============================] - 1s 2ms/step - loss: 21.5819 - mae: 3.1758 - val_loss: 31.1207 - val_mae: 4.4210\n",
            "Epoch 163/200\n",
            "404/404 [==============================] - 1s 2ms/step - loss: 21.4725 - mae: 3.1577 - val_loss: 15.5749 - val_mae: 3.0939\n",
            "Epoch 164/200\n",
            "404/404 [==============================] - 1s 2ms/step - loss: 22.5295 - mae: 3.1325 - val_loss: 17.1187 - val_mae: 3.1420\n",
            "Epoch 165/200\n",
            "404/404 [==============================] - 1s 2ms/step - loss: 21.4847 - mae: 3.1713 - val_loss: 22.0795 - val_mae: 3.7225\n",
            "Epoch 166/200\n",
            "404/404 [==============================] - 1s 2ms/step - loss: 24.4665 - mae: 3.3215 - val_loss: 15.8424 - val_mae: 3.1512\n",
            "Epoch 167/200\n",
            "404/404 [==============================] - 1s 2ms/step - loss: 21.5396 - mae: 3.1186 - val_loss: 24.8826 - val_mae: 3.7617\n",
            "Epoch 168/200\n",
            "404/404 [==============================] - 1s 2ms/step - loss: 21.2483 - mae: 3.1503 - val_loss: 35.7087 - val_mae: 4.4005\n",
            "Epoch 169/200\n",
            "404/404 [==============================] - 1s 2ms/step - loss: 21.3754 - mae: 3.1579 - val_loss: 16.1185 - val_mae: 3.2543\n",
            "Epoch 170/200\n",
            "404/404 [==============================] - 1s 2ms/step - loss: 21.9593 - mae: 3.2873 - val_loss: 42.3626 - val_mae: 5.2319\n",
            "Epoch 171/200\n",
            "404/404 [==============================] - 1s 2ms/step - loss: 21.3984 - mae: 3.1502 - val_loss: 19.2737 - val_mae: 3.2820\n",
            "Epoch 172/200\n",
            "404/404 [==============================] - 1s 2ms/step - loss: 22.2523 - mae: 3.2063 - val_loss: 15.7664 - val_mae: 3.0981\n",
            "Epoch 173/200\n",
            "404/404 [==============================] - 1s 2ms/step - loss: 21.8912 - mae: 3.1980 - val_loss: 18.5047 - val_mae: 3.2350\n",
            "Epoch 174/200\n",
            "404/404 [==============================] - 1s 2ms/step - loss: 21.4852 - mae: 3.2047 - val_loss: 16.3058 - val_mae: 3.0922\n",
            "Epoch 175/200\n",
            "404/404 [==============================] - 1s 2ms/step - loss: 22.1924 - mae: 3.2134 - val_loss: 21.9154 - val_mae: 3.4771\n",
            "Epoch 176/200\n",
            "404/404 [==============================] - 1s 2ms/step - loss: 21.7769 - mae: 3.2344 - val_loss: 14.8445 - val_mae: 3.0442\n",
            "Epoch 177/200\n",
            "404/404 [==============================] - 1s 2ms/step - loss: 22.2933 - mae: 3.1190 - val_loss: 16.2427 - val_mae: 3.0874\n",
            "Epoch 178/200\n",
            "404/404 [==============================] - 1s 2ms/step - loss: 21.8445 - mae: 3.2330 - val_loss: 16.2932 - val_mae: 3.1829\n",
            "Epoch 179/200\n",
            "404/404 [==============================] - 1s 2ms/step - loss: 22.9721 - mae: 3.1392 - val_loss: 26.2237 - val_mae: 3.8170\n",
            "Epoch 180/200\n",
            "404/404 [==============================] - 1s 2ms/step - loss: 20.9226 - mae: 3.0914 - val_loss: 21.9621 - val_mae: 3.3886\n",
            "Epoch 181/200\n",
            "404/404 [==============================] - 1s 2ms/step - loss: 23.3243 - mae: 3.2580 - val_loss: 16.6884 - val_mae: 3.2041\n",
            "Epoch 182/200\n",
            "404/404 [==============================] - 1s 2ms/step - loss: 21.4149 - mae: 3.1174 - val_loss: 16.3427 - val_mae: 3.2681\n",
            "Epoch 183/200\n",
            "404/404 [==============================] - 1s 2ms/step - loss: 22.3296 - mae: 3.1736 - val_loss: 25.7786 - val_mae: 3.6633\n",
            "Epoch 184/200\n",
            "404/404 [==============================] - 1s 2ms/step - loss: 22.2633 - mae: 3.2267 - val_loss: 23.5596 - val_mae: 3.5326\n",
            "Epoch 185/200\n",
            "404/404 [==============================] - 1s 2ms/step - loss: 22.9025 - mae: 3.2257 - val_loss: 17.8699 - val_mae: 3.3637\n",
            "Epoch 186/200\n",
            "404/404 [==============================] - 1s 2ms/step - loss: 21.9641 - mae: 3.1780 - val_loss: 20.1040 - val_mae: 3.2801\n",
            "Epoch 187/200\n",
            "404/404 [==============================] - 1s 2ms/step - loss: 20.7633 - mae: 3.0915 - val_loss: 15.0331 - val_mae: 3.0627\n",
            "Epoch 188/200\n",
            "404/404 [==============================] - 1s 2ms/step - loss: 21.5291 - mae: 3.1154 - val_loss: 17.0708 - val_mae: 3.1922\n",
            "Epoch 189/200\n",
            "404/404 [==============================] - 1s 2ms/step - loss: 20.8172 - mae: 3.0786 - val_loss: 28.2147 - val_mae: 4.1358\n",
            "Epoch 190/200\n",
            "404/404 [==============================] - 1s 2ms/step - loss: 22.0100 - mae: 3.2516 - val_loss: 16.1684 - val_mae: 3.2070\n",
            "Epoch 191/200\n",
            "404/404 [==============================] - 1s 2ms/step - loss: 22.7084 - mae: 3.2457 - val_loss: 33.6688 - val_mae: 4.3594\n",
            "Epoch 192/200\n",
            "404/404 [==============================] - 1s 2ms/step - loss: 21.3765 - mae: 3.1949 - val_loss: 19.8141 - val_mae: 3.5203\n",
            "Epoch 193/200\n",
            "404/404 [==============================] - 1s 2ms/step - loss: 22.5031 - mae: 3.1914 - val_loss: 15.9676 - val_mae: 3.1158\n",
            "Epoch 194/200\n",
            "404/404 [==============================] - 1s 2ms/step - loss: 21.3214 - mae: 3.1288 - val_loss: 32.5069 - val_mae: 4.3289\n",
            "Epoch 195/200\n",
            "404/404 [==============================] - 1s 2ms/step - loss: 23.3969 - mae: 3.1897 - val_loss: 15.9075 - val_mae: 3.0773\n",
            "Epoch 196/200\n",
            "404/404 [==============================] - 1s 2ms/step - loss: 21.6245 - mae: 3.1997 - val_loss: 15.8679 - val_mae: 3.1757\n",
            "Epoch 197/200\n",
            "404/404 [==============================] - 1s 2ms/step - loss: 20.5205 - mae: 3.1552 - val_loss: 22.5805 - val_mae: 3.6286\n",
            "Epoch 198/200\n",
            "404/404 [==============================] - 1s 2ms/step - loss: 21.3161 - mae: 3.1403 - val_loss: 18.3456 - val_mae: 3.2285\n",
            "Epoch 199/200\n",
            "404/404 [==============================] - 1s 2ms/step - loss: 22.1660 - mae: 3.1849 - val_loss: 15.8357 - val_mae: 3.1061\n",
            "Epoch 200/200\n",
            "404/404 [==============================] - 1s 2ms/step - loss: 22.6073 - mae: 3.2049 - val_loss: 16.1187 - val_mae: 3.1241\n"
          ]
        }
      ]
    },
    {
      "cell_type": "code",
      "source": [
        "pred=network.predict(np.reshape(test_x[0],(-1,13)))"
      ],
      "metadata": {
        "colab": {
          "base_uri": "https://localhost:8080/"
        },
        "id": "gd0c65oO0eSR",
        "outputId": "253dcab9-51b7-463d-c373-4320bf95958a"
      },
      "execution_count": null,
      "outputs": [
        {
          "output_type": "stream",
          "name": "stdout",
          "text": [
            "1/1 [==============================] - 0s 110ms/step\n"
          ]
        }
      ]
    },
    {
      "cell_type": "code",
      "source": [
        "vals=[]\n",
        "for i in range(0,y_test.__len__()):\n",
        "  val =network.predict(np.reshape(test_x[0],(-1,13)))\n",
        "  vals.append(val[0][0])"
      ],
      "metadata": {
        "colab": {
          "base_uri": "https://localhost:8080/"
        },
        "id": "kKgk_BbC1hzt",
        "outputId": "fa83a2e6-8b8f-46b2-86e5-b23e1c930193"
      },
      "execution_count": null,
      "outputs": [
        {
          "output_type": "stream",
          "name": "stdout",
          "text": [
            "1/1 [==============================] - 0s 21ms/step\n",
            "1/1 [==============================] - 0s 20ms/step\n",
            "1/1 [==============================] - 0s 20ms/step\n",
            "1/1 [==============================] - 0s 21ms/step\n",
            "1/1 [==============================] - 0s 21ms/step\n",
            "1/1 [==============================] - 0s 20ms/step\n",
            "1/1 [==============================] - 0s 20ms/step\n",
            "1/1 [==============================] - 0s 18ms/step\n",
            "1/1 [==============================] - 0s 17ms/step\n",
            "1/1 [==============================] - 0s 23ms/step\n",
            "1/1 [==============================] - 0s 18ms/step\n",
            "1/1 [==============================] - 0s 17ms/step\n",
            "1/1 [==============================] - 0s 19ms/step\n",
            "1/1 [==============================] - 0s 17ms/step\n",
            "1/1 [==============================] - 0s 16ms/step\n",
            "1/1 [==============================] - 0s 17ms/step\n",
            "1/1 [==============================] - 0s 19ms/step\n",
            "1/1 [==============================] - 0s 20ms/step\n",
            "1/1 [==============================] - 0s 17ms/step\n",
            "1/1 [==============================] - 0s 17ms/step\n",
            "1/1 [==============================] - 0s 17ms/step\n",
            "1/1 [==============================] - 0s 18ms/step\n",
            "1/1 [==============================] - 0s 21ms/step\n",
            "1/1 [==============================] - 0s 17ms/step\n",
            "1/1 [==============================] - 0s 17ms/step\n",
            "1/1 [==============================] - 0s 18ms/step\n",
            "1/1 [==============================] - 0s 23ms/step\n",
            "1/1 [==============================] - 0s 22ms/step\n",
            "1/1 [==============================] - 0s 18ms/step\n",
            "1/1 [==============================] - 0s 17ms/step\n",
            "1/1 [==============================] - 0s 16ms/step\n",
            "1/1 [==============================] - 0s 18ms/step\n",
            "1/1 [==============================] - 0s 17ms/step\n",
            "1/1 [==============================] - 0s 17ms/step\n",
            "1/1 [==============================] - 0s 18ms/step\n",
            "1/1 [==============================] - 0s 18ms/step\n",
            "1/1 [==============================] - 0s 20ms/step\n",
            "1/1 [==============================] - 0s 17ms/step\n",
            "1/1 [==============================] - 0s 24ms/step\n",
            "1/1 [==============================] - 0s 18ms/step\n",
            "1/1 [==============================] - 0s 21ms/step\n",
            "1/1 [==============================] - 0s 25ms/step\n",
            "1/1 [==============================] - 0s 27ms/step\n",
            "1/1 [==============================] - 0s 25ms/step\n",
            "1/1 [==============================] - 0s 23ms/step\n",
            "1/1 [==============================] - 0s 21ms/step\n",
            "1/1 [==============================] - 0s 21ms/step\n",
            "1/1 [==============================] - 0s 21ms/step\n",
            "1/1 [==============================] - 0s 23ms/step\n",
            "1/1 [==============================] - 0s 24ms/step\n",
            "1/1 [==============================] - 0s 26ms/step\n",
            "1/1 [==============================] - 0s 22ms/step\n",
            "1/1 [==============================] - 0s 24ms/step\n",
            "1/1 [==============================] - 0s 22ms/step\n",
            "1/1 [==============================] - 0s 20ms/step\n",
            "1/1 [==============================] - 0s 17ms/step\n",
            "1/1 [==============================] - 0s 18ms/step\n",
            "1/1 [==============================] - 0s 20ms/step\n",
            "1/1 [==============================] - 0s 18ms/step\n",
            "1/1 [==============================] - 0s 16ms/step\n",
            "1/1 [==============================] - 0s 16ms/step\n",
            "1/1 [==============================] - 0s 17ms/step\n",
            "1/1 [==============================] - 0s 20ms/step\n",
            "1/1 [==============================] - 0s 18ms/step\n",
            "1/1 [==============================] - 0s 17ms/step\n",
            "1/1 [==============================] - 0s 19ms/step\n",
            "1/1 [==============================] - 0s 18ms/step\n",
            "1/1 [==============================] - 0s 17ms/step\n",
            "1/1 [==============================] - 0s 17ms/step\n",
            "1/1 [==============================] - 0s 18ms/step\n",
            "1/1 [==============================] - 0s 16ms/step\n",
            "1/1 [==============================] - 0s 16ms/step\n",
            "1/1 [==============================] - 0s 19ms/step\n",
            "1/1 [==============================] - 0s 17ms/step\n",
            "1/1 [==============================] - 0s 17ms/step\n",
            "1/1 [==============================] - 0s 24ms/step\n",
            "1/1 [==============================] - 0s 17ms/step\n",
            "1/1 [==============================] - 0s 16ms/step\n",
            "1/1 [==============================] - 0s 18ms/step\n",
            "1/1 [==============================] - 0s 17ms/step\n",
            "1/1 [==============================] - 0s 17ms/step\n",
            "1/1 [==============================] - 0s 19ms/step\n",
            "1/1 [==============================] - 0s 22ms/step\n",
            "1/1 [==============================] - 0s 17ms/step\n",
            "1/1 [==============================] - 0s 17ms/step\n",
            "1/1 [==============================] - 0s 16ms/step\n",
            "1/1 [==============================] - 0s 18ms/step\n",
            "1/1 [==============================] - 0s 17ms/step\n",
            "1/1 [==============================] - 0s 16ms/step\n",
            "1/1 [==============================] - 0s 17ms/step\n",
            "1/1 [==============================] - 0s 16ms/step\n",
            "1/1 [==============================] - 0s 16ms/step\n",
            "1/1 [==============================] - 0s 16ms/step\n",
            "1/1 [==============================] - 0s 17ms/step\n",
            "1/1 [==============================] - 0s 24ms/step\n",
            "1/1 [==============================] - 0s 16ms/step\n",
            "1/1 [==============================] - 0s 16ms/step\n",
            "1/1 [==============================] - 0s 19ms/step\n",
            "1/1 [==============================] - 0s 17ms/step\n",
            "1/1 [==============================] - 0s 16ms/step\n",
            "1/1 [==============================] - 0s 17ms/step\n",
            "1/1 [==============================] - 0s 17ms/step\n"
          ]
        }
      ]
    },
    {
      "cell_type": "code",
      "source": [
        "print(vals)"
      ],
      "metadata": {
        "colab": {
          "base_uri": "https://localhost:8080/"
        },
        "id": "5cE3SmWD3wtL",
        "outputId": "c24959b6-cab4-4610-f4b6-a4cad0b71b6b"
      },
      "execution_count": null,
      "outputs": [
        {
          "output_type": "stream",
          "name": "stdout",
          "text": [
            "[22.018671, 22.018671, 22.018671, 22.018671, 22.018671, 22.018671, 22.018671, 22.018671, 22.018671, 22.018671, 22.018671, 22.018671, 22.018671, 22.018671, 22.018671, 22.018671, 22.018671, 22.018671, 22.018671, 22.018671, 22.018671, 22.018671, 22.018671, 22.018671, 22.018671, 22.018671, 22.018671, 22.018671, 22.018671, 22.018671, 22.018671, 22.018671, 22.018671, 22.018671, 22.018671, 22.018671, 22.018671, 22.018671, 22.018671, 22.018671, 22.018671, 22.018671, 22.018671, 22.018671, 22.018671, 22.018671, 22.018671, 22.018671, 22.018671, 22.018671, 22.018671, 22.018671, 22.018671, 22.018671, 22.018671, 22.018671, 22.018671, 22.018671, 22.018671, 22.018671, 22.018671, 22.018671, 22.018671, 22.018671, 22.018671, 22.018671, 22.018671, 22.018671, 22.018671, 22.018671, 22.018671, 22.018671, 22.018671, 22.018671, 22.018671, 22.018671, 22.018671, 22.018671, 22.018671, 22.018671, 22.018671, 22.018671, 22.018671, 22.018671, 22.018671, 22.018671, 22.018671, 22.018671, 22.018671, 22.018671, 22.018671, 22.018671, 22.018671, 22.018671, 22.018671, 22.018671, 22.018671, 22.018671, 22.018671, 22.018671, 22.018671, 22.018671]\n"
          ]
        }
      ]
    },
    {
      "cell_type": "code",
      "source": [
        "Y=vals"
      ],
      "metadata": {
        "id": "i_cxmLiz3z_s"
      },
      "execution_count": null,
      "outputs": []
    },
    {
      "cell_type": "code",
      "source": [
        "fig,ax=plt.subplots()\n",
        "ax.scatter(y_test,vals,c=\"crimson\")\n",
        "p1=max(max(y_test),max(vals))\n",
        "p2=min(min(y_test),min(vals))\n",
        "ax.plot([p1,p2],[p1,p2],'k--',lw=4)\n",
        "ax.set_xlabel(\"Actual\")\n",
        "ax.set_ylabel(\"Predicted\")\n",
        "plt.show()"
      ],
      "metadata": {
        "colab": {
          "base_uri": "https://localhost:8080/",
          "height": 279
        },
        "id": "iS7ixxye34ss",
        "outputId": "d0744307-641e-4877-f8f3-069d45b84fbe"
      },
      "execution_count": null,
      "outputs": [
        {
          "output_type": "display_data",
          "data": {
            "text/plain": [
              "<Figure size 432x288 with 1 Axes>"
            ],
            "image/png": "[encoded data removed]"
          },
          "metadata": {
            "needs_background": "light"
          }
        }
      ]
    },
    {
      "cell_type": "code",
      "source": [],
      "metadata": {
        "id": "TDiHwQk6KVTf"
      },
      "execution_count": null,
      "outputs": []
    }
  ]
}